{
 "cells": [
  {
   "cell_type": "code",
   "execution_count": 10,
   "id": "da46f5eb",
   "metadata": {},
   "outputs": [
    {
     "name": "stdout",
     "output_type": "stream",
     "text": [
      "kuliah rutin Data intelegent\n",
      "2\n"
     ]
    }
   ],
   "source": [
    "var1 = 2\n",
    "if var1 == 100:\n",
    "    print(\"kuliah Pengganti Data intelegent\")\n",
    "    print(var1)\n",
    "else:\n",
    "    print (\"kuliah rutin Data intelegent\")\n",
    "    print (var1)"
   ]
  },
  {
   "cell_type": "code",
   "execution_count": 11,
   "id": "599c51be",
   "metadata": {},
   "outputs": [],
   "source": [
    "#decision makinh bertingkat if...elif...else"
   ]
  },
  {
   "cell_type": "markdown",
   "id": "1e2711fc",
   "metadata": {},
   "source": [
    "``` \n",
    "if expression1:\n",
    "    statement(s)\n",
    "elif expression2:\n",
    "    statement(s)\n",
    "elif expression3:\n",
    "    statement(s)\n",
    "else:\n",
    "    statement(s)\n",
    "```"
   ]
  },
  {
   "cell_type": "code",
   "execution_count": 12,
   "id": "29eda1cc",
   "metadata": {},
   "outputs": [
    {
     "name": "stdout",
     "output_type": "stream",
     "text": [
      "bukan katagorik\n"
     ]
    }
   ],
   "source": [
    "var = 0\n",
    "if var == 1:\n",
    "    print (\"nilai tertinggi, kategori:\" + str(var))\n",
    "elif var == 2:\n",
    "    print (\"nilai sedang, kategori:\" + str(var))\n",
    "elif var == 3:\n",
    "    print (\"nilai rendah, kategori:\" + str(var))\n",
    "else:\n",
    "    print (\"bukan katagorik\")"
   ]
  },
  {
   "cell_type": "code",
   "execution_count": 13,
   "id": "b54188d7",
   "metadata": {},
   "outputs": [],
   "source": [
    "#contoh 1 decision making dengan menggunakan batas atas"
   ]
  },
  {
   "cell_type": "code",
   "execution_count": 14,
   "id": "8f8217ef",
   "metadata": {},
   "outputs": [
    {
     "name": "stdout",
     "output_type": "stream",
     "text": [
      "data proses tinggi:150MB\n"
     ]
    }
   ],
   "source": [
    "## contoh 1\n",
    "besar = 150\n",
    "\n",
    "if besar < 99.99:\n",
    "    print (\"data proses rendah:\" + str(besar) + \"MB\")\n",
    "elif besar < 149.99:\n",
    "    print (\"data proses sedang:\" + str(besar) + \"MB\")\n",
    "elif besar < 199.90:\n",
    "    print (\"data proses tinggi:\" + str(besar) + \"MB\")\n",
    "else :\n",
    "    print (\"data proses sangat tinggi:\" + str(besar) + \"MB\")"
   ]
  },
  {
   "cell_type": "code",
   "execution_count": 15,
   "id": "102deac4",
   "metadata": {},
   "outputs": [
    {
     "name": "stdout",
     "output_type": "stream",
     "text": [
      "data proses tinggi:150MB\n"
     ]
    }
   ],
   "source": [
    "besar = 150\n",
    "\n",
    "if besar <= 99.99:\n",
    "    print (\"data proses rendah:\" + str(besar) + \"MB\")\n",
    "elif besar <= 149.99:\n",
    "    print (\"data proses sedang:\" + str(besar) + \"MB\")\n",
    "elif besar <= 199.90:\n",
    "    print (\"data proses tinggi:\" + str(besar) + \"MB\")\n",
    "else :\n",
    "    print (\"data proses sangat tinggi:\" + str(besar) + \"MB\")"
   ]
  },
  {
   "cell_type": "code",
   "execution_count": 16,
   "id": "0569adc3",
   "metadata": {},
   "outputs": [
    {
     "name": "stdout",
     "output_type": "stream",
     "text": [
      "data proses tinggi:150MB\n"
     ]
    }
   ],
   "source": [
    "besar = 150\n",
    "\n",
    "if besar >= 200:\n",
    "    print (\"data proses sangat tinggi:\" + str(besar) + \"MB\")\n",
    "elif besar >= 150:\n",
    "    print (\"data proses tinggi:\" + str(besar) + \"MB\")\n",
    "elif besar >= 100:\n",
    "    print (\"data proses sedang:\" + str(besar) + \"MB\")\n",
    "else :\n",
    "    print (\"data proses sangat rendah:\" + str(besar) + \"MB\")"
   ]
  },
  {
   "cell_type": "markdown",
   "metadata": {},
   "source": [
    "#looping while\n",
    "keadaan akan berhenti jika kondisi tidak terpenuh"
   ]
  },
  {
   "cell_type": "code",
   "execution_count": 18,
   "id": "7822b336",
   "metadata": {},
   "outputs": [
    {
     "name": "stdout",
     "output_type": "stream",
     "text": [
      "if, nilai angka sekarang:8\n",
      "while, nilai angka sekarang:8\n",
      "while, nilai angka sekarang:7\n",
      "while, nilai angka sekarang:6\n",
      "while, nilai angka sekarang:5\n",
      "while, nilai angka sekarang:4\n",
      "while, nilai angka sekarang:3\n"
     ]
    }
   ],
   "source": [
    "#contoh\n",
    "angka = 8\n",
    "if angka > 2:\n",
    "    print (\"if, nilai angka sekarang:\" +str(angka))\n",
    "while angka >2:\n",
    "    print (\"while, nilai angka sekarang:\" +str(angka))\n",
    "    angka = angka - 1"
   ]
  },
  {
   "cell_type": "code",
   "execution_count": 19,
   "id": "46b7dad0",
   "metadata": {},
   "outputs": [],
   "source": [
    "## contoh prin 0-50 dengan kelipatan 3"
   ]
  },
  {
   "cell_type": "code",
   "execution_count": 8,
   "id": "7b07f377",
   "metadata": {},
   "outputs": [
    {
     "name": "stdout",
     "output_type": "stream",
     "text": [
      "48\n",
      "45\n",
      "42\n",
      "39\n",
      "36\n",
      "33\n",
      "30\n",
      "27\n",
      "24\n",
      "21\n",
      "18\n",
      "15\n",
      "12\n",
      "9\n",
      "6\n",
      "3\n",
      "0\n"
     ]
    }
   ],
   "source": [
    "angka = 50\n",
    "while angka >=0:\n",
    "    if angka%3 == 0:\n",
    "        print(angka)\n",
    "    angka = angka - 1"
   ]
  },
  {
   "cell_type": "code",
   "execution_count": 20,
   "id": "0e320be4",
   "metadata": {},
   "outputs": [
    {
     "name": "stdout",
     "output_type": "stream",
     "text": [
      "0\n",
      "3\n",
      "6\n",
      "9\n",
      "12\n",
      "15\n",
      "18\n",
      "21\n",
      "24\n",
      "27\n",
      "30\n",
      "33\n",
      "36\n",
      "39\n",
      "42\n",
      "45\n",
      "48\n"
     ]
    }
   ],
   "source": [
    "angka = 0\n",
    "while angka <=50:\n",
    "    if angka%3 == 0:\n",
    "        print(angka)\n",
    "    angka = angka + 1"
   ]
  },
  {
   "cell_type": "code",
   "execution_count": null,
   "id": "a48e83ea",
   "metadata": {},
   "outputs": [],
   "source": []
  }
 ],
 "metadata": {
  "interpreter": {
   "hash": "23de8b414a4c09d593fbd8e0c5bd7084aebbaf951048db0c16457ae2ef34dc87"
  },
  "kernelspec": {
   "display_name": "Python 3.8.8 64-bit ('base': conda)",
   "name": "python3"
  },
  "language_info": {
   "codemirror_mode": {
    "name": "ipython",
    "version": 3
   },
   "file_extension": ".py",
   "mimetype": "text/x-python",
   "name": "python",
   "nbconvert_exporter": "python",
   "pygments_lexer": "ipython3",
   "version": "3.8.8"
  }
 },
 "nbformat": 4,
 "nbformat_minor": 5
}
