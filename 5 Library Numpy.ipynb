{
  "cells": [
    {
      "cell_type": "markdown",
      "metadata": {
        "id": "5t_7wOzOp05F"
      },
      "source": [
        "Variabel\n",
        "Diketahui beberapa list berikut:\n",
        "\n",
        "ipk = [3.05, 3.45, 3.33, 2.90, 3.10, 3.23, 3.80, 3.74, 3.67, 3.39, 3.41, 3.51, 3.21, 3.55, 3.34, 3.67, 3.77, 3.00, 3.25, 2.78]\n",
        "sks = [88, 89, 90, 100, 80, 78, 90, 90, 92, 97, 95, 80, 88, 102, 87, 84, 85, 89, 101, 80]\n",
        "konsentrasi = konsentrasi = [\"AK\", \"AK\", \"DS\", \"DS\", \"AK\", \"AK\", \"MK\", \"MK\", \"DS\", \"DS\", \"IN\", \"IN\", \"BS\", \"BS\", \"MK\", \"MK\", \"BS\", \"BS\", \"IN\", \"IN\"]"
      ]
    },
    {
      "cell_type": "code",
      "execution_count": null,
      "metadata": {
        "id": "uA4LIfdqpppE"
      },
      "outputs": [],
      "source": [
        "# definisi variabel\n",
        "ipk = [3.05, 3.45, 3.33, 2.90, 3.10, 3.23, 3.80, 3.74, 3.67, 3.39, 3.41, 3.51, 3.21, 3.55, 3.34, 3.67, 3.77, 3.00, 3.25, 2.78]\n",
        "sks = [88, 89, 90, 100, 80, 78, 90, 90, 92, 97, 95, 80, 88, 102, 87, 84, 85, 89, 101, 80]\n",
        "konsentrasi = [\"AK\", \"AK\", \"DS\", \"DS\", \"AK\", \"AK\", \"MK\", \"MK\", \"DS\", \"DS\", \"IN\", \"IN\", \"BS\", \"BS\", \"MK\", \"MK\", \"BS\", \"BS\", \"IN\", \"IN\"]"
      ]
    },
    {
      "cell_type": "code",
      "execution_count": null,
      "metadata": {
        "colab": {
          "base_uri": "https://localhost:8080/"
        },
        "id": "PFkRwNXHqBaN",
        "outputId": "d1544153-1088-47fa-eafa-4617e80cb2f2"
      },
      "outputs": [
        {
          "data": {
            "text/plain": [
              "20"
            ]
          },
          "execution_count": 3,
          "metadata": {},
          "output_type": "execute_result"
        }
      ],
      "source": [
        "# panjang dari setiap variabel\n",
        "len(ipk)"
      ]
    },
    {
      "cell_type": "code",
      "execution_count": null,
      "metadata": {
        "colab": {
          "base_uri": "https://localhost:8080/"
        },
        "id": "q0XxbAC2qC1_",
        "outputId": "2b15d7eb-e960-4367-cf8c-0f98af0f40fb"
      },
      "outputs": [
        {
          "name": "stdout",
          "output_type": "stream",
          "text": [
            "[3.0, 3.5, 4.0, 4.0, 4.0, 3.0, 3.5, 2.5, 2.8, 2.8, 3.0, 3.5, 3.8, 3.8, 3.8, 2.5, 4.0, 4.0, 3.8, 4.0]\n"
          ]
        }
      ],
      "source": [
        "# diperoleh nilai mata kuliah baru dengan bobot yang tersimpan dalam variabel bobot berikut\n",
        "bobot = [3.0, 3.5, 4.0, 4.0, 4.0, 3.0, 3.5, 2.5, 2.8, 2.8, 3.0, 3.5, 3.8, 3.8, 3.8, 2.5, 4.0, 4.0, 3.8, 4.0]\n",
        "print(bobot)"
      ]
    },
    {
      "cell_type": "code",
      "execution_count": null,
      "metadata": {
        "colab": {
          "base_uri": "https://localhost:8080/"
        },
        "id": "60EZGFM0qGNf",
        "outputId": "9b46bf6b-817f-4362-cff9-1de5eca8ee46"
      },
      "outputs": [
        {
          "data": {
            "text/plain": [
              "20"
            ]
          },
          "execution_count": 5,
          "metadata": {},
          "output_type": "execute_result"
        }
      ],
      "source": [
        "len(bobot)"
      ]
    },
    {
      "cell_type": "code",
      "execution_count": null,
      "metadata": {
        "colab": {
          "base_uri": "https://localhost:8080/"
        },
        "id": "W2-n6SwGqK8l",
        "outputId": "0f2b684c-a41f-4404-dbed-0cc875b73ec2"
      },
      "outputs": [
        {
          "name": "stdout",
          "output_type": "stream",
          "text": [
            "[3.0, 3.5, 4.0, 4.0, 4.0, 3.0, 3.5, 2.5, 2.8, 2.8, 3.0, 3.5, 3.8, 3.8, 3.8, 2.5, 4.0, 4.0, 3.8, 4.0, 3.0, 3.5, 4.0, 4.0, 4.0, 3.0, 3.5, 2.5, 2.8, 2.8, 3.0, 3.5, 3.8, 3.8, 3.8, 2.5, 4.0, 4.0, 3.8, 4.0, 3.0, 3.5, 4.0, 4.0, 4.0, 3.0, 3.5, 2.5, 2.8, 2.8, 3.0, 3.5, 3.8, 3.8, 3.8, 2.5, 4.0, 4.0, 3.8, 4.0]\n"
          ]
        }
      ],
      "source": [
        "# sks mata kuliah tersebut adalah 3. Hitung total bobot dengan mengalikan list bobot dengan 3. Simpan dalam variabel tot_bobot\n",
        "totalbobot = bobot*3\n",
        "print(totalbobot)"
      ]
    },
    {
      "cell_type": "code",
      "execution_count": null,
      "metadata": {
        "colab": {
          "base_uri": "https://localhost:8080/"
        },
        "id": "yNBBuHk0qWDn",
        "outputId": "a7f2e8d3-5573-4704-a3fb-5a3111cd8ede"
      },
      "outputs": [
        {
          "data": {
            "text/plain": [
              "60"
            ]
          },
          "execution_count": 9,
          "metadata": {},
          "output_type": "execute_result"
        }
      ],
      "source": [
        "len(totalbobot)"
      ]
    },
    {
      "cell_type": "markdown",
      "metadata": {
        "id": "nMMsB0ujrsWF"
      },
      "source": [
        "package numpy"
      ]
    },
    {
      "cell_type": "code",
      "execution_count": null,
      "metadata": {
        "id": "6j8ANacUqYJq"
      },
      "outputs": [],
      "source": [
        "import numpy as np"
      ]
    },
    {
      "cell_type": "code",
      "execution_count": null,
      "metadata": {
        "colab": {
          "base_uri": "https://localhost:8080/"
        },
        "id": "YuLOOqgerx-V",
        "outputId": "c74b4f51-92e7-4ef3-e705-c2d5acbe9a3d"
      },
      "outputs": [
        {
          "name": "stdout",
          "output_type": "stream",
          "text": [
            "23\n"
          ]
        }
      ],
      "source": [
        "# Membuat 0-D Array\n",
        "\n",
        "a = np.array(23)\n",
        "print(a)"
      ]
    },
    {
      "cell_type": "code",
      "execution_count": null,
      "metadata": {
        "colab": {
          "base_uri": "https://localhost:8080/"
        },
        "id": "Ct51zqecr0Gl",
        "outputId": "567e975c-c325-4954-9a28-bc60063b5ddc"
      },
      "outputs": [
        {
          "name": "stdout",
          "output_type": "stream",
          "text": [
            "[1 4 6 9]\n"
          ]
        }
      ],
      "source": [
        "# Membuat 1-D array\n",
        "\n",
        "b = np.array([1, 4, 6, 9])\n",
        "print(b)"
      ]
    },
    {
      "cell_type": "code",
      "execution_count": null,
      "metadata": {
        "colab": {
          "base_uri": "https://localhost:8080/"
        },
        "id": "hAQqeq84r2IO",
        "outputId": "12bcaa29-d663-4ebb-c80f-0c0bdb856641"
      },
      "outputs": [
        {
          "name": "stdout",
          "output_type": "stream",
          "text": [
            "[[ 2  3  5]\n",
            " [ 7 11 13]]\n"
          ]
        }
      ],
      "source": [
        "# Membuat 2-D array\n",
        "\n",
        "c = np.array([[2, 3, 5], [7, 11, 13]])\n",
        "print(c)"
      ]
    },
    {
      "cell_type": "code",
      "execution_count": null,
      "metadata": {
        "colab": {
          "base_uri": "https://localhost:8080/"
        },
        "id": "iDPT8doBr834",
        "outputId": "e0bf506c-d6cd-40e7-a19f-7ec8db64ecca"
      },
      "outputs": [
        {
          "name": "stdout",
          "output_type": "stream",
          "text": [
            "[[[1 2 3]\n",
            "  [4 5 6]\n",
            "  [7 8 9]]]\n"
          ]
        }
      ],
      "source": [
        "# Membuat 3-D array\n",
        "\n",
        "d = np.array([[[1, 2, 3], [4, 5, 6], [7, 8, 9]]])\n",
        "print(d)"
      ]
    },
    {
      "cell_type": "code",
      "execution_count": null,
      "metadata": {
        "colab": {
          "base_uri": "https://localhost:8080/"
        },
        "id": "kYoA2Nigr9Y1",
        "outputId": "89318bc8-62df-4def-fd5e-38fc9169868d"
      },
      "outputs": [
        {
          "name": "stdout",
          "output_type": "stream",
          "text": [
            "[[[[[1 2 3]\n",
            "    [4 5 6]]]]]\n"
          ]
        }
      ],
      "source": [
        "# Membuat n-D array dengan numpy.array(array, ndmin = n)\n",
        "\n",
        "e = np.array([[1, 2, 3], [4, 5, 6]], ndmin = 5)\n",
        "print(e)"
      ]
    },
    {
      "cell_type": "code",
      "execution_count": null,
      "metadata": {
        "colab": {
          "base_uri": "https://localhost:8080/"
        },
        "id": "oHhUFPOxr_Ve",
        "outputId": "fd7eb9db-7580-4a89-b220-55ffc973d91d"
      },
      "outputs": [
        {
          "name": "stdout",
          "output_type": "stream",
          "text": [
            "0\n",
            "1\n",
            "2\n",
            "3\n",
            "5\n"
          ]
        }
      ],
      "source": [
        "# Mengecek dimensi semua array dengan ndim\n",
        "\n",
        "print(a.ndim)\n",
        "print(b.ndim)\n",
        "print(c.ndim)\n",
        "print(d.ndim)\n",
        "print(e.ndim)"
      ]
    },
    {
      "cell_type": "markdown",
      "metadata": {
        "id": "mVgvFwS7sK0g"
      },
      "source": [
        "indeks array"
      ]
    },
    {
      "cell_type": "code",
      "execution_count": null,
      "metadata": {
        "colab": {
          "base_uri": "https://localhost:8080/"
        },
        "id": "PLLssIJ-sCep",
        "outputId": "c7cd0faf-bde6-48c3-8251-d1968b06a728"
      },
      "outputs": [
        {
          "name": "stdout",
          "output_type": "stream",
          "text": [
            "1\n"
          ]
        }
      ],
      "source": [
        "# Memanggil elemen pertama pada 1-D array\n",
        "print(b[0])"
      ]
    },
    {
      "cell_type": "code",
      "execution_count": null,
      "metadata": {
        "colab": {
          "base_uri": "https://localhost:8080/"
        },
        "id": "M8dIw4K9sQgd",
        "outputId": "145683be-fcdd-4db2-84eb-6872d9c4add8"
      },
      "outputs": [
        {
          "name": "stdout",
          "output_type": "stream",
          "text": [
            "[11 12 13]\n"
          ]
        }
      ],
      "source": [
        "# Memanggil array pertama pada 2-D array\n",
        "arr = np.array([[11, 12, 13], [14, 15, 16], [17, 18, 19]])\n",
        "print(arr[0])"
      ]
    },
    {
      "cell_type": "code",
      "execution_count": null,
      "metadata": {
        "colab": {
          "base_uri": "https://localhost:8080/"
        },
        "id": "UQtJlJc0sSmZ",
        "outputId": "3a1f0cc9-7b01-42e2-e310-51aff01a6521"
      },
      "outputs": [
        {
          "name": "stdout",
          "output_type": "stream",
          "text": [
            "18\n"
          ]
        }
      ],
      "source": [
        "# Memanggil elemen kedua pada array ketiga 2-D array\n",
        "\n",
        "print(arr[2, 1])"
      ]
    },
    {
      "cell_type": "markdown",
      "metadata": {
        "id": "2JObAkw9sVrk"
      },
      "source": [
        "slicing array\n",
        "\n",
        "Slicing dapat dilakukan dengan menuliskan [mulai : akhir] atau [mulai : akhir : langkah].\n",
        "\n",
        "Jika mulai tidak dituliskan, maka dianggap 0\n",
        "Jika akhir tidak dituliskan, maka dianggap hingga panjang array\n",
        "Jika langkah tidak dituliskan, maka dianggap 1"
      ]
    },
    {
      "cell_type": "code",
      "execution_count": null,
      "metadata": {
        "colab": {
          "base_uri": "https://localhost:8080/"
        },
        "id": "BZAWpey0sUOW",
        "outputId": "2616bac5-943e-45bf-9073-ad4d7350dd14"
      },
      "outputs": [
        {
          "data": {
            "text/plain": [
              "array([15, 17, 20, 23, 34])"
            ]
          },
          "execution_count": 21,
          "metadata": {},
          "output_type": "execute_result"
        }
      ],
      "source": [
        "arr = np.array([12, 15, 17, 20, 23, 34, 56, 78, 100, 56, 88])\n",
        "\n",
        "# Mengambil elemen kedua hingga keenam (15, 17, 20, 23, 34)\n",
        "arr[1:6]"
      ]
    },
    {
      "cell_type": "code",
      "execution_count": null,
      "metadata": {
        "colab": {
          "base_uri": "https://localhost:8080/"
        },
        "id": "tW33nmHuseTO",
        "outputId": "065b97d8-907d-458a-d12a-1f1cad480a04"
      },
      "outputs": [
        {
          "data": {
            "text/plain": [
              "array([[10, 11],\n",
              "       [13, 14]])"
            ]
          },
          "execution_count": 22,
          "metadata": {},
          "output_type": "execute_result"
        }
      ],
      "source": [
        "arr = np.array([[10, 11, 12], [13, 14, 15], [16, 17, 18], [19, 20, 21]], ndmin=2)\n",
        "\n",
        "# Mengambil array pertama dan kedua (indeks 0, 1) beserta elemen pertama dan kedua (indeks 0, 1)\n",
        "arr[0:2, 0:2]"
      ]
    },
    {
      "cell_type": "markdown",
      "metadata": {
        "id": "VgAjanvIsmBO"
      },
      "source": [
        "menggabungkan array dngan np.concatenate"
      ]
    },
    {
      "cell_type": "code",
      "execution_count": null,
      "metadata": {
        "colab": {
          "base_uri": "https://localhost:8080/"
        },
        "id": "eSFeUafiskey",
        "outputId": "7ad038b1-f67b-48b9-be89-7f3e763de442"
      },
      "outputs": [
        {
          "name": "stdout",
          "output_type": "stream",
          "text": [
            "[ 1  2  3  4 34 56 78 90]\n"
          ]
        }
      ],
      "source": [
        "arr1 = np.array([1, 2, 3, 4])\n",
        "arr2 = np.array([34, 56, 78, 90])\n",
        "\n",
        "arr = np.concatenate((arr1, arr2))\n",
        "print(arr)"
      ]
    },
    {
      "cell_type": "code",
      "execution_count": null,
      "metadata": {
        "colab": {
          "base_uri": "https://localhost:8080/"
        },
        "id": "yxwvkyIFsuNE",
        "outputId": "86c25809-641c-44dd-b088-6e9d55fc53c2"
      },
      "outputs": [
        {
          "name": "stdout",
          "output_type": "stream",
          "text": [
            "[[1 2]\n",
            " [3 4]\n",
            " [5 6]\n",
            " [7 8]]\n",
            "\n",
            "\n",
            "[[1 2 5 6]\n",
            " [3 4 7 8]]\n"
          ]
        }
      ],
      "source": [
        "arr1 = np.array([[1, 2], [3, 4]])\n",
        "\n",
        "arr2 = np.array([[5, 6], [7, 8]])\n",
        "\n",
        "# Jika axis = 0\n",
        "arr3 = np.concatenate((arr1, arr2), axis=0)\n",
        "print(arr3)\n",
        "\n",
        "print(\"\\n\")\n",
        "\n",
        "# Jika axis = 1\n",
        "arr4 = np.concatenate((arr1, arr2), axis=1)\n",
        "print(arr4)"
      ]
    },
    {
      "cell_type": "markdown",
      "metadata": {
        "id": "kF0Sn9i9s40A"
      },
      "source": [
        "menggbungkan array dengan stack"
      ]
    },
    {
      "cell_type": "code",
      "execution_count": null,
      "metadata": {
        "colab": {
          "base_uri": "https://localhost:8080/"
        },
        "id": "sP9GB1n0swKJ",
        "outputId": "01c4c255-61ad-4631-ee2e-0f1170633d49"
      },
      "outputs": [
        {
          "name": "stdout",
          "output_type": "stream",
          "text": [
            "[[1 2 3]\n",
            " [4 5 6]]\n"
          ]
        }
      ],
      "source": [
        "# Cobalah menggabungkan dua array berdimensi 1 berikut dengan stack\n",
        "arr1 = np.array([1, 2, 3])\n",
        "\n",
        "arr2 = np.array([4, 5, 6])\n",
        "\n",
        "arr = np.stack((arr1, arr2), axis = 0)\n",
        "\n",
        "print(arr)"
      ]
    },
    {
      "cell_type": "code",
      "execution_count": null,
      "metadata": {
        "colab": {
          "base_uri": "https://localhost:8080/"
        },
        "id": "Z9NGyKlHs9OM",
        "outputId": "1c92e7cc-720c-4903-86ad-9bdc9a8b35d6"
      },
      "outputs": [
        {
          "name": "stdout",
          "output_type": "stream",
          "text": [
            "[1 2 3 4 5 6]\n"
          ]
        }
      ],
      "source": [
        "# Coba bandingkan apabila penggabungan dilakukan dengan menggunakan concatenate. Apa yang terjadi?\n",
        "arr1 = np.array([1, 2, 3])\n",
        "\n",
        "arr2 = np.array([4, 5, 6])\n",
        "\n",
        "arr = np.concatenate((arr1, arr2), axis = 0)\n",
        "\n",
        "print(arr)"
      ]
    },
    {
      "cell_type": "markdown",
      "metadata": {
        "id": "CN-NgciktCrP"
      },
      "source": [
        "random"
      ]
    },
    {
      "cell_type": "code",
      "execution_count": null,
      "metadata": {
        "id": "D14CXIDItBSp"
      },
      "outputs": [],
      "source": [
        "from numpy import random"
      ]
    },
    {
      "cell_type": "code",
      "execution_count": null,
      "metadata": {
        "colab": {
          "base_uri": "https://localhost:8080/"
        },
        "id": "sNfpNnvBtIo-",
        "outputId": "a054344f-56f3-4299-9e29-2bec73d01e6d"
      },
      "outputs": [
        {
          "name": "stdout",
          "output_type": "stream",
          "text": [
            "[[ 26  72  91]\n",
            " [128 146  22]\n",
            " [ 91  79  84]\n",
            " [164  27 196]]\n"
          ]
        }
      ],
      "source": [
        "# Merandom bilangan bulat randint(low, high=None, size=None, dtype='l')\n",
        "\n",
        "\n",
        "x = random.randint(10, 200, size = (4, 3))\n",
        "\n",
        "print(x)"
      ]
    },
    {
      "cell_type": "code",
      "execution_count": null,
      "metadata": {
        "colab": {
          "base_uri": "https://localhost:8080/"
        },
        "id": "P1D-Z-4GtPGJ",
        "outputId": "ec95f2d8-f27b-41c2-afdc-d2e4cf6403d8"
      },
      "outputs": [
        {
          "data": {
            "text/plain": [
              "2"
            ]
          },
          "execution_count": 30,
          "metadata": {},
          "output_type": "execute_result"
        }
      ],
      "source": [
        "x.ndim"
      ]
    },
    {
      "cell_type": "code",
      "execution_count": null,
      "metadata": {
        "colab": {
          "base_uri": "https://localhost:8080/"
        },
        "id": "AvyikLE_tQ-M",
        "outputId": "a1026f9a-ae2c-4c67-e7ea-18ed119909d4"
      },
      "outputs": [
        {
          "name": "stdout",
          "output_type": "stream",
          "text": [
            "[0.38426937 0.51628766 0.86996551 0.00328265 0.36874509 0.33226681\n",
            " 0.81611511 0.81985251 0.81120036 0.55553397]\n"
          ]
        }
      ],
      "source": [
        "# Merandom bilangan diantara 0 dan 1 rand(10)\n",
        "x = random.rand(10)\n",
        "\n",
        "print(x)"
      ]
    },
    {
      "cell_type": "code",
      "execution_count": null,
      "metadata": {
        "id": "I7ln30KZtVPG"
      },
      "outputs": [],
      "source": [
        "? random.rand"
      ]
    },
    {
      "cell_type": "markdown",
      "metadata": {
        "id": "iRILUYW6tcfV"
      },
      "source": [
        "latihan"
      ]
    },
    {
      "cell_type": "code",
      "execution_count": null,
      "metadata": {
        "colab": {
          "base_uri": "https://localhost:8080/"
        },
        "id": "zTBIL-rPtXwG",
        "outputId": "e1281c37-7923-4ec3-b8c9-094141ea54b5"
      },
      "outputs": [
        {
          "name": "stdout",
          "output_type": "stream",
          "text": [
            "<class 'list'>\n"
          ]
        }
      ],
      "source": [
        "# Variabel tuple dari kasus terkonfirmasi positif dan sembuh\n",
        "kasus = [[100, 80], [300, 242], [100, 233], [333, 368], [289, 228], [129, 125], [248, 137]]\n",
        "print(type(kasus))"
      ]
    },
    {
      "cell_type": "code",
      "execution_count": null,
      "metadata": {
        "colab": {
          "base_uri": "https://localhost:8080/"
        },
        "id": "c9nrWGxWtjfM",
        "outputId": "469a3ead-f941-4fa3-d99a-4f98887477dd"
      },
      "outputs": [
        {
          "name": "stdout",
          "output_type": "stream",
          "text": [
            "[[100  80]\n",
            " [300 242]\n",
            " [100 233]\n",
            " [333 368]\n",
            " [289 228]\n",
            " [129 125]\n",
            " [248 137]]\n"
          ]
        }
      ],
      "source": [
        "# ubah list kasus menjadi suatu array, simpan dalam np_kasus\n",
        "np_kasus = np.array(kasus)\n",
        "print(np_kasus)"
      ]
    },
    {
      "cell_type": "code",
      "execution_count": null,
      "metadata": {
        "colab": {
          "base_uri": "https://localhost:8080/"
        },
        "id": "QU9tFspits4r",
        "outputId": "abccb815-01d3-4000-da9e-9b49f3e2d510"
      },
      "outputs": [
        {
          "name": "stdout",
          "output_type": "stream",
          "text": [
            "7\n"
          ]
        }
      ],
      "source": [
        "# Berapakah ukuran array kasus?\n",
        "print(len(kasus))"
      ]
    },
    {
      "cell_type": "code",
      "execution_count": null,
      "metadata": {
        "colab": {
          "base_uri": "https://localhost:8080/"
        },
        "id": "HOpZmA3stx_B",
        "outputId": "374b260f-09e0-43b9-a028-cc700fe4424f"
      },
      "outputs": [
        {
          "name": "stdout",
          "output_type": "stream",
          "text": [
            "[333, 368]\n"
          ]
        }
      ],
      "source": [
        "# tampilkan tuple kasus ke-4\n",
        "print(kasus[3])"
      ]
    },
    {
      "cell_type": "code",
      "execution_count": null,
      "metadata": {
        "colab": {
          "base_uri": "https://localhost:8080/"
        },
        "id": "A1sA9qq_wvZI",
        "outputId": "1ac2409a-145c-4f66-fdae-faf3103c86eb"
      },
      "outputs": [
        {
          "name": "stdout",
          "output_type": "stream",
          "text": [
            "[[100, 80], [300, 242], [100, 233], [333, 368], [289, 228], [129, 125], [248, 137]]\n"
          ]
        }
      ],
      "source": [
        "# tampilkan semua kasus sembuh\n",
        "print(kasus)"
      ]
    },
    {
      "cell_type": "code",
      "execution_count": null,
      "metadata": {
        "colab": {
          "base_uri": "https://localhost:8080/"
        },
        "id": "j4SgCc7Ywytc",
        "outputId": "51991f44-472a-445b-ad6e-1eb7e108e928"
      },
      "outputs": [
        {
          "data": {
            "text/plain": [
              "array([[100,  80],\n",
              "       [300, 242],\n",
              "       [100, 233],\n",
              "       [333, 368],\n",
              "       [289, 228],\n",
              "       [129, 125],\n",
              "       [248, 137],\n",
              "       [190, 233]])"
            ]
          },
          "execution_count": 50,
          "metadata": {},
          "output_type": "execute_result"
        }
      ],
      "source": [
        "# tambahkan kasus terkonfirmasi 190, sembuh 233 pada np_kasus\n",
        "np.append(np_kasus, [[190, 233]], axis=0)"
      ]
    },
    {
      "cell_type": "markdown",
      "metadata": {},
      "source": [
        "NUMPY DAN PANDAS by Bu Arum"
      ]
    },
    {
      "cell_type": "markdown",
      "metadata": {},
      "source": [
        "# prinsip slicing"
      ]
    },
    {
      "cell_type": "markdown",
      "metadata": {},
      "source": [
        "```\n",
        "[mulai:akhir]\n",
        "mulai -> diisikan indeks elemen dimulaina permotongan\n",
        "akhir -> diisikan indeks akhir pemotongan +1\n",
        "```"
      ]
    },
    {
      "cell_type": "code",
      "execution_count": 1,
      "metadata": {},
      "outputs": [],
      "source": [
        "import numpy as np"
      ]
    },
    {
      "cell_type": "code",
      "execution_count": 7,
      "metadata": {},
      "outputs": [
        {
          "data": {
            "text/plain": [
              "array([400, 500, 600, 700])"
            ]
          },
          "execution_count": 7,
          "metadata": {},
          "output_type": "execute_result"
        }
      ],
      "source": [
        "# melakukan pemotongan indeks ke 1:5\n",
        "a=np.array([200,400,500,600,700,800,900,100,200])\n",
        "a[1:5]"
      ]
    },
    {
      "cell_type": "markdown",
      "metadata": {},
      "source": [
        "# Pandas"
      ]
    },
    {
      "cell_type": "markdown",
      "metadata": {},
      "source": [
        "```\n",
        "pengolahan data berkaitan dengan data frame\n",
        "baik membuat data:\n",
        "1. data tabular\n",
        "2. membaca data\n",
        "3. memanipulasi (indexing, slicing, merging, group, dll)\n",
        "```"
      ]
    },
    {
      "cell_type": "code",
      "execution_count": 8,
      "metadata": {},
      "outputs": [],
      "source": [
        "import pandas as pd"
      ]
    },
    {
      "cell_type": "code",
      "execution_count": null,
      "metadata": {},
      "outputs": [],
      "source": []
    }
  ],
  "metadata": {
    "colab": {
      "name": "19611129_Dian Widya Lestari_5",
      "provenance": []
    },
    "interpreter": {
      "hash": "23de8b414a4c09d593fbd8e0c5bd7084aebbaf951048db0c16457ae2ef34dc87"
    },
    "kernelspec": {
      "display_name": "Python 3.8.8 64-bit ('base': conda)",
      "name": "python3"
    },
    "language_info": {
      "codemirror_mode": {
        "name": "ipython",
        "version": 3
      },
      "file_extension": ".py",
      "mimetype": "text/x-python",
      "name": "python",
      "nbconvert_exporter": "python",
      "pygments_lexer": "ipython3",
      "version": "3.8.8"
    }
  },
  "nbformat": 4,
  "nbformat_minor": 0
}
