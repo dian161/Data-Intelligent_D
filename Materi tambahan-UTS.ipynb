{
 "cells": [
  {
   "cell_type": "code",
   "execution_count": 1,
   "metadata": {},
   "outputs": [],
   "source": [
    "import pandas as pd"
   ]
  },
  {
   "cell_type": "markdown",
   "metadata": {},
   "source": [
    "# UTS\n",
    "fungsi,\n",
    "numpy (`append, stek, accompenied`),\n",
    "baris -> `axis=0`,\n",
    "kolom -> `axis=1`"
   ]
  },
  {
   "cell_type": "markdown",
   "metadata": {},
   "source": [
    "# Membuat fungsi"
   ]
  },
  {
   "cell_type": "code",
   "execution_count": 1,
   "metadata": {},
   "outputs": [],
   "source": [
    "import numpy as np"
   ]
  },
  {
   "cell_type": "code",
   "execution_count": 9,
   "metadata": {},
   "outputs": [
    {
     "name": "stdout",
     "output_type": "stream",
     "text": [
      "[['ibu' 'ayah' 'adik' 'solo' 'semarang' 'bekasi']\n",
      " ['sri' 'widi' 'yudha' 'karangpandan' 'semarang' 'bekasi timur']]\n",
      "\n",
      "\n",
      "[['ibu' 'ayah' 'adik']\n",
      " ['sri' 'widi' 'yudha']\n",
      " ['solo' 'semarang' 'bekasi']\n",
      " ['karangpandan' 'semarang' 'bekasi timur']]\n"
     ]
    }
   ],
   "source": [
    "a=np.array([[\"ibu\",\"ayah\",\"adik\"],[\"sri\",\"widi\",\"yudha\"]])\n",
    "b=np.array([[\"solo\",\"semarang\",\"bekasi\"],['karangpandan',\"semarang\",\"bekasi timur\"]])\n",
    "\n",
    "a1=np.concatenate((a,b), axis=1)\n",
    "print(a1)\n",
    "\n",
    "print(\"\\n\")\n",
    "\n",
    "a2=np.concatenate((a,b), axis=0)\n",
    "print(a2)"
   ]
  },
  {
   "cell_type": "code",
   "execution_count": 14,
   "metadata": {},
   "outputs": [
    {
     "name": "stdout",
     "output_type": "stream",
     "text": [
      "[['ibu' 'ayah' 'adik']\n",
      " ['solo' 'semarang' 'bekasi']]\n"
     ]
    }
   ],
   "source": [
    "a=np.array([\"ibu\",\"ayah\",\"adik\"])\n",
    "b=np.array([\"solo\",\"semarang\",\"bekasi\"])\n",
    "\n",
    "a2=np.stack((a,b),axis=0)\n",
    "print(a2)"
   ]
  },
  {
   "cell_type": "code",
   "execution_count": 15,
   "metadata": {},
   "outputs": [
    {
     "name": "stdout",
     "output_type": "stream",
     "text": [
      "['ibu' 'ayah' 'adik' 'solo' 'semarang' 'bekasi']\n"
     ]
    }
   ],
   "source": [
    "a=np.array([\"ibu\",\"ayah\",\"adik\"])\n",
    "b=np.array([\"solo\",\"semarang\",\"bekasi\"])\n",
    "\n",
    "a2=np.concatenate((a,b),axis=0)\n",
    "print(a2)"
   ]
  },
  {
   "cell_type": "markdown",
   "metadata": {},
   "source": [
    "# LATIHAN STUDI KASUS NUMPY"
   ]
  },
  {
   "cell_type": "markdown",
   "metadata": {},
   "source": [
    "1. membuat daftar nilai\n",
    "2. pengolahan nilai dengan max, min, dan average\n",
    "3. pengurutan nilai dengan ascending dan descending\n",
    "4. menambah nilai dengan % dan menambah nilai dengan 1"
   ]
  },
  {
   "cell_type": "code",
   "execution_count": 1,
   "metadata": {},
   "outputs": [],
   "source": [
    "import numpy as np"
   ]
  },
  {
   "cell_type": "code",
   "execution_count": 2,
   "metadata": {},
   "outputs": [
    {
     "name": "stdout",
     "output_type": "stream",
     "text": [
      "[56 78 98 90 58 64 67 72 93 51]\n"
     ]
    }
   ],
   "source": [
    "nilai_siswa = np.array([56,78,98,90,58,64,67,72,93,51])\n",
    "print(nilai_siswa)"
   ]
  },
  {
   "cell_type": "code",
   "execution_count": 4,
   "metadata": {},
   "outputs": [
    {
     "name": "stdout",
     "output_type": "stream",
     "text": [
      "72.7\n"
     ]
    }
   ],
   "source": [
    "mean = np.average(nilai_siswa)\n",
    "print(mean)"
   ]
  },
  {
   "cell_type": "code",
   "execution_count": 9,
   "metadata": {},
   "outputs": [
    {
     "name": "stdout",
     "output_type": "stream",
     "text": [
      "98\n",
      "51\n"
     ]
    }
   ],
   "source": [
    "max = np.max(nilai_siswa)\n",
    "print(max)\n",
    "\n",
    "low = np.min(nilai_siswa)\n",
    "print(low)"
   ]
  },
  {
   "cell_type": "code",
   "execution_count": 10,
   "metadata": {},
   "outputs": [
    {
     "name": "stdout",
     "output_type": "stream",
     "text": [
      "2\n",
      "9\n"
     ]
    }
   ],
   "source": [
    "# mengetahhui letak index nilai max dan min\n",
    "\n",
    "print(np.argmax(nilai_siswa))\n",
    "print(np.argmin(nilai_siswa))\n"
   ]
  },
  {
   "cell_type": "code",
   "execution_count": 14,
   "metadata": {},
   "outputs": [
    {
     "name": "stdout",
     "output_type": "stream",
     "text": [
      "[51 56 58 64 67 72 78 90 93 98]\n",
      "[98 93 90 78 72 67 64 58 56 51]\n"
     ]
    }
   ],
   "source": [
    "print(np.sort(nilai_siswa)) # mengurutkan nilai dari terkecil - terbesar\n",
    "print(-np.sort(-nilai_siswa)) # mengurutkan nilai dari terbesar - terkecil"
   ]
  },
  {
   "cell_type": "code",
   "execution_count": 17,
   "metadata": {},
   "outputs": [
    {
     "name": "stdout",
     "output_type": "stream",
     "text": [
      "[ 61.6  85.8 107.8  99.   63.8  70.4  73.7  79.2 102.3  56.1]\n"
     ]
    }
   ],
   "source": [
    "# penambahan nilai sebanyak 10%\n",
    "\n",
    "nambah_nilai = nilai_siswa*1.1\n",
    "print(nambah_nilai)"
   ]
  },
  {
   "cell_type": "code",
   "execution_count": 18,
   "metadata": {},
   "outputs": [
    {
     "name": "stdout",
     "output_type": "stream",
     "text": [
      "[ 66  88 108 100  68  74  77  82 103  61]\n"
     ]
    }
   ],
   "source": [
    "# penambahan nilai sebanyak 10\n",
    "\n",
    "nambah_nilai2 = nilai_siswa+10\n",
    "print(nambah_nilai2)"
   ]
  },
  {
   "cell_type": "code",
   "execution_count": 20,
   "metadata": {},
   "outputs": [
    {
     "name": "stdout",
     "output_type": "stream",
     "text": [
      "[57. 79. 99. 91. 59. 65. 68. 73. 94. 52.]\n"
     ]
    }
   ],
   "source": [
    "# penambahan setiap array\n",
    "\n",
    "print(np.add(nilai_siswa, np.ones(10)))\n",
    "\n",
    "# outputnya bilangan real, makanya ada titiknya"
   ]
  },
  {
   "cell_type": "code",
   "execution_count": 21,
   "metadata": {},
   "outputs": [
    {
     "name": "stdout",
     "output_type": "stream",
     "text": [
      "[ 57  80 101  94  63  70  74  80 102  61]\n"
     ]
    }
   ],
   "source": [
    "# penambahan setiap array dengan nilai beda setiap array\n",
    "\n",
    "print(np.add(nilai_siswa, np.array([1,2,3,4,5,6,7,8,9,10])))"
   ]
  },
  {
   "cell_type": "markdown",
   "metadata": {},
   "source": [
    "# STUDI KASUS FUNCTION"
   ]
  },
  {
   "cell_type": "code",
   "execution_count": 24,
   "metadata": {},
   "outputs": [
    {
     "name": "stdout",
     "output_type": "stream",
     "text": [
      "selamat datang, di world tour NCT DREAM\n",
      "selamat datang, di world tour NCT DREAM\n"
     ]
    }
   ],
   "source": [
    "def welcome():\n",
    "    print(\"selamat datang, di world tour NCT DREAM\")\n",
    "\n",
    "welcome()\n",
    "welcome()"
   ]
  },
  {
   "cell_type": "code",
   "execution_count": 1,
   "metadata": {},
   "outputs": [
    {
     "ename": "TypeError",
     "evalue": "nama() missing 1 required positional argument: 'fullname'",
     "output_type": "error",
     "traceback": [
      "\u001b[1;31m---------------------------------------------------------------------------\u001b[0m",
      "\u001b[1;31mTypeError\u001b[0m                                 Traceback (most recent call last)",
      "\u001b[1;32m<ipython-input-1-a97d06642687>\u001b[0m in \u001b[0;36m<module>\u001b[1;34m\u001b[0m\n\u001b[0;32m      3\u001b[0m     \u001b[0mbiodata\u001b[0m\u001b[1;33m=\u001b[0m\u001b[0mfullname\u001b[0m\u001b[1;33m\u001b[0m\u001b[1;33m\u001b[0m\u001b[0m\n\u001b[0;32m      4\u001b[0m     \u001b[0mprint\u001b[0m\u001b[1;33m(\u001b[0m\u001b[0mfullname\u001b[0m\u001b[1;33m,\u001b[0m \u001b[1;34m'welcome to NCT 2022'\u001b[0m\u001b[1;33m)\u001b[0m\u001b[1;33m\u001b[0m\u001b[1;33m\u001b[0m\u001b[0m\n\u001b[1;32m----> 5\u001b[1;33m \u001b[0mnama\u001b[0m\u001b[1;33m(\u001b[0m\u001b[1;33m)\u001b[0m\u001b[1;33m\u001b[0m\u001b[1;33m\u001b[0m\u001b[0m\n\u001b[0m",
      "\u001b[1;31mTypeError\u001b[0m: nama() missing 1 required positional argument: 'fullname'"
     ]
    }
   ],
   "source": [
    "def nama(fullname):\n",
    "    print(\"Halo fullname welcome to NCT world tour 2022\")\n",
    "    biodata=fullname\n",
    "    print(fullname, 'welcome to NCT 2022')\n",
    "nama()"
   ]
  },
  {
   "cell_type": "code",
   "execution_count": null,
   "metadata": {},
   "outputs": [],
   "source": []
  }
 ],
 "metadata": {
  "interpreter": {
   "hash": "23de8b414a4c09d593fbd8e0c5bd7084aebbaf951048db0c16457ae2ef34dc87"
  },
  "kernelspec": {
   "display_name": "Python 3.8.8 64-bit ('base': conda)",
   "name": "python3"
  },
  "language_info": {
   "codemirror_mode": {
    "name": "ipython",
    "version": 3
   },
   "file_extension": ".py",
   "mimetype": "text/x-python",
   "name": "python",
   "nbconvert_exporter": "python",
   "pygments_lexer": "ipython3",
   "version": "3.8.8"
  },
  "orig_nbformat": 4
 },
 "nbformat": 4,
 "nbformat_minor": 2
}
