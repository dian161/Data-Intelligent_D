{
 "cells": [
  {
   "cell_type": "markdown",
   "id": "db5b725a",
   "metadata": {},
   "source": [
    "# fungsi"
   ]
  },
  {
   "cell_type": "markdown",
   "id": "5df17348",
   "metadata": {},
   "source": [
    "```\n",
    "satu blok yg terorganisir dan dpt digunakan kembali. \n",
    "fungsi akan berjalan jika dipanngil. kita dpt input data ke dlm fungsi. fungsi trsebut akan mengeluarkan data sebagai berikut.\n",
    "\n",
    "*fungsi terdiri dari:\n",
    "1. header dan body\n",
    "header berisi\n",
    "```"
   ]
  },
  {
   "cell_type": "code",
   "execution_count": 2,
   "id": "2978acaf",
   "metadata": {},
   "outputs": [],
   "source": [
    "def functionname(parameters):\n",
    "    \"function_docstring\"\n",
    "    function_suite\n",
    "    return [expression]"
   ]
  },
  {
   "cell_type": "markdown",
   "id": "2a288745",
   "metadata": {},
   "source": [
    "# A Membuat variabel di dalam python"
   ]
  },
  {
   "cell_type": "code",
   "execution_count": 4,
   "id": "f4d42e22",
   "metadata": {},
   "outputs": [
    {
     "name": "stdout",
     "output_type": "stream",
     "text": [
      "hello word\n"
     ]
    }
   ],
   "source": [
    "print(\"hello word\")"
   ]
  },
  {
   "cell_type": "code",
   "execution_count": 5,
   "id": "9c98e8c7",
   "metadata": {},
   "outputs": [],
   "source": [
    "a=13"
   ]
  },
  {
   "cell_type": "code",
   "execution_count": 7,
   "id": "3131c05e",
   "metadata": {},
   "outputs": [
    {
     "data": {
      "text/plain": [
       "26"
      ]
     },
     "execution_count": 7,
     "metadata": {},
     "output_type": "execute_result"
    }
   ],
   "source": [
    "a*2"
   ]
  },
  {
   "cell_type": "code",
   "execution_count": 8,
   "id": "cb99f035",
   "metadata": {},
   "outputs": [
    {
     "data": {
      "text/plain": [
       "17"
      ]
     },
     "execution_count": 8,
     "metadata": {},
     "output_type": "execute_result"
    }
   ],
   "source": [
    "a+4"
   ]
  },
  {
   "cell_type": "markdown",
   "id": "befa1a07",
   "metadata": {},
   "source": [
    "```\n",
    "sebagai contoh, 13 adalah objek dri kelas \"integer\"\n",
    "hello word adalh objek dari kelas \"string\"\n",
    "```"
   ]
  },
  {
   "cell_type": "code",
   "execution_count": 12,
   "id": "23d30255",
   "metadata": {},
   "outputs": [],
   "source": [
    "s='python'"
   ]
  },
  {
   "cell_type": "code",
   "execution_count": 13,
   "id": "9c9becf2",
   "metadata": {},
   "outputs": [
    {
     "data": {
      "text/plain": [
       "'PYTHON'"
      ]
     },
     "execution_count": 13,
     "metadata": {},
     "output_type": "execute_result"
    }
   ],
   "source": [
    "s.upper()"
   ]
  },
  {
   "cell_type": "code",
   "execution_count": 14,
   "id": "1dd37b6e",
   "metadata": {},
   "outputs": [
    {
     "data": {
      "text/plain": [
       "'python'"
      ]
     },
     "execution_count": 14,
     "metadata": {},
     "output_type": "execute_result"
    }
   ],
   "source": [
    "s.lower()"
   ]
  },
  {
   "cell_type": "markdown",
   "id": "73612ab9",
   "metadata": {},
   "source": [
    "# B Membuat konstanta"
   ]
  },
  {
   "cell_type": "code",
   "execution_count": 15,
   "id": "7ab6627c",
   "metadata": {},
   "outputs": [],
   "source": [
    "#mendefinisikan fungsi phi (3,14)\n",
    "def pi():\n",
    "    return 3.1415"
   ]
  },
  {
   "cell_type": "code",
   "execution_count": 22,
   "id": "40b6696b",
   "metadata": {},
   "outputs": [
    {
     "data": {
      "text/plain": [
       "3.1415"
      ]
     },
     "execution_count": 22,
     "metadata": {},
     "output_type": "execute_result"
    }
   ],
   "source": [
    "pi()"
   ]
  },
  {
   "cell_type": "code",
   "execution_count": 25,
   "id": "816405ea",
   "metadata": {},
   "outputs": [],
   "source": [
    "#penggunaan fungsi pi()\n",
    "radius = 3\n",
    "luas = pi()*(radius**2)"
   ]
  },
  {
   "cell_type": "code",
   "execution_count": 26,
   "id": "b26cd31e",
   "metadata": {},
   "outputs": [
    {
     "data": {
      "text/plain": [
       "28.273500000000002"
      ]
     },
     "execution_count": 26,
     "metadata": {},
     "output_type": "execute_result"
    }
   ],
   "source": [
    "luas"
   ]
  },
  {
   "cell_type": "code",
   "execution_count": 18,
   "id": "f5603a51",
   "metadata": {},
   "outputs": [],
   "source": [
    "import math"
   ]
  },
  {
   "cell_type": "code",
   "execution_count": 19,
   "id": "815aa956",
   "metadata": {},
   "outputs": [
    {
     "data": {
      "text/plain": [
       "3.141592653589793"
      ]
     },
     "execution_count": 19,
     "metadata": {},
     "output_type": "execute_result"
    }
   ],
   "source": [
    "math.pi"
   ]
  },
  {
   "cell_type": "code",
   "execution_count": 20,
   "id": "cbb61d0a",
   "metadata": {},
   "outputs": [],
   "source": [
    "math.pi += 4"
   ]
  },
  {
   "cell_type": "code",
   "execution_count": 21,
   "id": "36868f46",
   "metadata": {},
   "outputs": [
    {
     "data": {
      "text/plain": [
       "7.141592653589793"
      ]
     },
     "execution_count": 21,
     "metadata": {},
     "output_type": "execute_result"
    }
   ],
   "source": [
    "math.pi"
   ]
  },
  {
   "cell_type": "markdown",
   "id": "ee5751b2",
   "metadata": {},
   "source": [
    "\n",
    "# C Membuat fungsi tanpa nama balik (return)"
   ]
  },
  {
   "cell_type": "markdown",
   "id": "c086ae5e",
   "metadata": {},
   "source": [
    "menggunakan kata kunci def"
   ]
  },
  {
   "cell_type": "code",
   "execution_count": 33,
   "id": "34fe270e",
   "metadata": {},
   "outputs": [],
   "source": [
    "def tulis(s,n):\n",
    "    for i in range(0,n):\n",
    "        print(s)"
   ]
  },
  {
   "cell_type": "code",
   "execution_count": 34,
   "id": "8c18e383",
   "metadata": {},
   "outputs": [
    {
     "name": "stdout",
     "output_type": "stream",
     "text": [
      "python\n",
      "python\n",
      "python\n"
     ]
    }
   ],
   "source": [
    "tulis('python',3)"
   ]
  },
  {
   "cell_type": "code",
   "execution_count": 35,
   "id": "5d331c8d",
   "metadata": {},
   "outputs": [
    {
     "name": "stdout",
     "output_type": "stream",
     "text": [
      "cantik\n",
      "cantik\n",
      "cantik\n",
      "cantik\n",
      "cantik\n",
      "cantik\n",
      "cantik\n",
      "cantik\n",
      "cantik\n",
      "cantik\n"
     ]
    }
   ],
   "source": [
    "tulis('cantik',10)"
   ]
  },
  {
   "cell_type": "code",
   "execution_count": 38,
   "id": "36f24ffa",
   "metadata": {},
   "outputs": [
    {
     "name": "stdout",
     "output_type": "stream",
     "text": [
      "1\n",
      "3\n",
      "5\n",
      "7\n",
      "9\n"
     ]
    }
   ],
   "source": [
    "for i in range(1,11):\n",
    "    if(i%2 ==1):\n",
    "       tulis(i,1)"
   ]
  },
  {
   "cell_type": "markdown",
   "id": "ad2413cc",
   "metadata": {},
   "source": [
    "# D membuat fungsi dengan nilai balik"
   ]
  },
  {
   "cell_type": "code",
   "execution_count": 28,
   "id": "9f8c8235",
   "metadata": {},
   "outputs": [],
   "source": [
    "def kali(a,b):\n",
    "    return a*b"
   ]
  },
  {
   "cell_type": "code",
   "execution_count": 29,
   "id": "dd1def64",
   "metadata": {},
   "outputs": [],
   "source": [
    "x = kali(2,3)"
   ]
  },
  {
   "cell_type": "code",
   "execution_count": 30,
   "id": "fbc83708",
   "metadata": {},
   "outputs": [
    {
     "data": {
      "text/plain": [
       "6"
      ]
     },
     "execution_count": 30,
     "metadata": {},
     "output_type": "execute_result"
    }
   ],
   "source": [
    "x"
   ]
  },
  {
   "cell_type": "code",
   "execution_count": 31,
   "id": "b34674b0",
   "metadata": {},
   "outputs": [],
   "source": [
    "y = kali(4,8)"
   ]
  },
  {
   "cell_type": "code",
   "execution_count": 32,
   "id": "a7f605ec",
   "metadata": {},
   "outputs": [
    {
     "data": {
      "text/plain": [
       "32"
      ]
     },
     "execution_count": 32,
     "metadata": {},
     "output_type": "execute_result"
    }
   ],
   "source": [
    "y"
   ]
  },
  {
   "cell_type": "markdown",
   "id": "038ea010",
   "metadata": {},
   "source": [
    "# E membuat kelas"
   ]
  },
  {
   "cell_type": "markdown",
   "id": "a17712b5",
   "metadata": {},
   "source": [
    "menggunakan kata kunci class"
   ]
  },
  {
   "cell_type": "code",
   "execution_count": 44,
   "id": "04190dcf",
   "metadata": {},
   "outputs": [],
   "source": [
    "class segiempat():\n",
    "    def __init__(self,p,l):\n",
    "        self.panjang = p\n",
    "        self.lebar = l\n",
    "    def luas(self):\n",
    "        return self.panjang*self.lebar\n",
    "    def keliling(self):\n",
    "        return 2*(self.panjang+self.lebar)"
   ]
  },
  {
   "cell_type": "code",
   "execution_count": 45,
   "id": "633b0b20",
   "metadata": {},
   "outputs": [
    {
     "data": {
      "text/plain": [
       "48"
      ]
     },
     "execution_count": 45,
     "metadata": {},
     "output_type": "execute_result"
    }
   ],
   "source": [
    "#contoh\n",
    "obj = segiempat(8,6)\n",
    "obj.luas()"
   ]
  },
  {
   "cell_type": "code",
   "execution_count": 46,
   "id": "bc3c2292",
   "metadata": {},
   "outputs": [
    {
     "data": {
      "text/plain": [
       "28"
      ]
     },
     "execution_count": 46,
     "metadata": {},
     "output_type": "execute_result"
    }
   ],
   "source": [
    "obj.keliling()"
   ]
  },
  {
   "cell_type": "markdown",
   "id": "9d874724",
   "metadata": {},
   "source": [
    "# Latihan 1"
   ]
  },
  {
   "cell_type": "markdown",
   "id": "517e49d5",
   "metadata": {},
   "source": [
    "buatlah fungsi untuk menghitung luas dan keliling lingkaran menggunakan class"
   ]
  },
  {
   "cell_type": "code",
   "execution_count": 67,
   "id": "86e43639",
   "metadata": {},
   "outputs": [],
   "source": [
    "class lingkaran():\n",
    "    def __init__(self,r,pi):\n",
    "        self.jarijari = r\n",
    "        self.pi = pi\n",
    "    def luas(self):\n",
    "        return self.pi*(self.jarijari*self.jarijari)\n",
    "    def keliling(self):\n",
    "        return 2*self.pi*self.jarijari"
   ]
  },
  {
   "cell_type": "code",
   "execution_count": 71,
   "id": "f5eb8fa9",
   "metadata": {},
   "outputs": [
    {
     "data": {
      "text/plain": [
       "615.44"
      ]
     },
     "execution_count": 71,
     "metadata": {},
     "output_type": "execute_result"
    }
   ],
   "source": [
    "#Diketahui sebuah lingkaran memiliki diameter 28 cm. Berapakah luas lingkaran tersebut?\n",
    "soal1 = lingkaran(14,3.14)\n",
    "soal1.luas()"
   ]
  },
  {
   "cell_type": "code",
   "execution_count": 74,
   "id": "71fc1e7d",
   "metadata": {},
   "outputs": [
    {
     "data": {
      "text/plain": [
       "87.92"
      ]
     },
     "execution_count": 74,
     "metadata": {},
     "output_type": "execute_result"
    }
   ],
   "source": [
    "#Sebuah lingkaran memiliki jari-jari 14 cm. Berapakah keliling lingkaran tersebut?\n",
    "soal2 = lingkaran(14,3.14)\n",
    "soal1.keliling()"
   ]
  },
  {
   "cell_type": "code",
   "execution_count": null,
   "id": "96a0b9b3",
   "metadata": {},
   "outputs": [],
   "source": []
  }
 ],
 "metadata": {
  "kernelspec": {
   "display_name": "Python 3",
   "language": "python",
   "name": "python3"
  },
  "language_info": {
   "codemirror_mode": {
    "name": "ipython",
    "version": 3
   },
   "file_extension": ".py",
   "mimetype": "text/x-python",
   "name": "python",
   "nbconvert_exporter": "python",
   "pygments_lexer": "ipython3",
   "version": "3.8.8"
  }
 },
 "nbformat": 4,
 "nbformat_minor": 5
}
