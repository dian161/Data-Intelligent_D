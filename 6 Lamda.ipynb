{
 "cells": [
  {
   "cell_type": "code",
   "execution_count": 1,
   "metadata": {},
   "outputs": [
    {
     "name": "stdout",
     "output_type": "stream",
     "text": [
      "hello world\n"
     ]
    }
   ],
   "source": [
    "print(\"hello world\")"
   ]
  },
  {
   "cell_type": "markdown",
   "metadata": {},
   "source": [
    "```\n",
    "FUNGSI\n",
    "- adalah suatu blok kode yang terorganisir dan dapat digunakan kembali\n",
    "- akan berjalan jika dipanggil\n",
    "```"
   ]
  },
  {
   "cell_type": "markdown",
   "metadata": {},
   "source": [
    "```\n",
    "FUNGSI LAMDA\n",
    "- fungsi anonim yang kecil\n",
    "- fungsi anonim tidak menggunakan \"def\"\n",
    "- memuat beberapa argumen yg menghasilkan satu nilai ekspresi"
   ]
  },
  {
   "cell_type": "markdown",
   "metadata": {},
   "source": [
    "1 Fungsi tanpa parameter input dan satu return"
   ]
  },
  {
   "cell_type": "code",
   "execution_count": 1,
   "metadata": {},
   "outputs": [],
   "source": [
    "def cetak():\n",
    "    print(\"mata kuliah data intelligent dengan python\")"
   ]
  },
  {
   "cell_type": "code",
   "execution_count": 2,
   "metadata": {},
   "outputs": [
    {
     "name": "stdout",
     "output_type": "stream",
     "text": [
      "mata kuliah data intelligent dengan python\n"
     ]
    }
   ],
   "source": [
    "cetak()"
   ]
  },
  {
   "cell_type": "code",
   "execution_count": 3,
   "metadata": {},
   "outputs": [],
   "source": [
    "def kuadrat():\n",
    "    \"return nilai kuadrat 8\"\n",
    "    nilai=8**2\n",
    "    return(nilai)"
   ]
  },
  {
   "cell_type": "code",
   "execution_count": 4,
   "metadata": {},
   "outputs": [
    {
     "data": {
      "text/plain": [
       "64"
      ]
     },
     "execution_count": 4,
     "metadata": {},
     "output_type": "execute_result"
    }
   ],
   "source": [
    "kuadrat()"
   ]
  },
  {
   "cell_type": "markdown",
   "metadata": {},
   "source": [
    "2 Fungsi dengan satu parameter input"
   ]
  },
  {
   "cell_type": "code",
   "execution_count": 5,
   "metadata": {},
   "outputs": [],
   "source": [
    "# contoh\n",
    "def kuadrat(angka):\n",
    "    \"return nilai kuadrat dari angka\"\n",
    "    nilai = angka**2\n",
    "    return(nilai)"
   ]
  },
  {
   "cell_type": "code",
   "execution_count": 6,
   "metadata": {},
   "outputs": [
    {
     "data": {
      "text/plain": [
       "3136"
      ]
     },
     "execution_count": 6,
     "metadata": {},
     "output_type": "execute_result"
    }
   ],
   "source": [
    "kuadrat(56)"
   ]
  },
  {
   "cell_type": "markdown",
   "metadata": {},
   "source": [
    "4 Fungsi dengan lebih dari 1 return (ditampilkan dlm bentuk tuple)"
   ]
  },
  {
   "cell_type": "code",
   "execution_count": 7,
   "metadata": {},
   "outputs": [
    {
     "name": "stdout",
     "output_type": "stream",
     "text": [
      "('apel', 'jeruk', 'pisang')\n"
     ]
    }
   ],
   "source": [
    "# tuple\n",
    "buah = (\"apel\",\"jeruk\", \"pisang\")\n",
    "print(buah)"
   ]
  },
  {
   "cell_type": "code",
   "execution_count": 8,
   "metadata": {},
   "outputs": [
    {
     "name": "stdout",
     "output_type": "stream",
     "text": [
      "apel\n"
     ]
    }
   ],
   "source": [
    "a,b,c=buah\n",
    "print(a)"
   ]
  },
  {
   "cell_type": "code",
   "execution_count": 11,
   "metadata": {},
   "outputs": [],
   "source": [
    "# gunakan tuple untuk return yg lebih dr satu\n",
    "def ukuran(a,b):\n",
    "    \"return keliling dan luas persegi panjang\"\n",
    "    keliling = 2*(a+b)\n",
    "    luas = a*b\n",
    "    return(keliling, luas)"
   ]
  },
  {
   "cell_type": "code",
   "execution_count": 12,
   "metadata": {},
   "outputs": [
    {
     "data": {
      "text/plain": [
       "(28, 48)"
      ]
     },
     "execution_count": 12,
     "metadata": {},
     "output_type": "execute_result"
    }
   ],
   "source": [
    "ukuran(8,6)"
   ]
  },
  {
   "cell_type": "code",
   "execution_count": 13,
   "metadata": {},
   "outputs": [],
   "source": [
    "K, L = ukuran(8,9)"
   ]
  },
  {
   "cell_type": "code",
   "execution_count": 14,
   "metadata": {},
   "outputs": [
    {
     "name": "stdout",
     "output_type": "stream",
     "text": [
      "72\n"
     ]
    }
   ],
   "source": [
    "print(L)"
   ]
  },
  {
   "cell_type": "code",
   "execution_count": 15,
   "metadata": {},
   "outputs": [
    {
     "name": "stdout",
     "output_type": "stream",
     "text": [
      "34\n"
     ]
    }
   ],
   "source": [
    "print(K)"
   ]
  },
  {
   "cell_type": "code",
   "execution_count": 16,
   "metadata": {},
   "outputs": [],
   "source": [
    "# BUAT FUNGSI PEMBUNGAAN\n",
    "# berikaan return pada 2 objek "
   ]
  },
  {
   "cell_type": "markdown",
   "metadata": {},
   "source": [
    "```\n",
    "LATIHAN\n",
    "buat suatu fungsi mengeluarkan bilangan random dengan aturan berikut:\n",
    "1. memiliki input x: jumlah blngan random dan y: batas atas bilangan random(0,y)\n",
    "2. berikan nama fungsinya toss\n",
    "3. berikan kategori berikut:\n",
    "   bilangan random (a) | kategori\n",
    "   a >= 200               tinggi\n",
    "   100 <= a < 200         sedang\n",
    "   a < 100                rendah"
   ]
  },
  {
   "cell_type": "code",
   "execution_count": 24,
   "metadata": {},
   "outputs": [],
   "source": [
    "# contoh output merandom 3 bil dgn batasan (0,500) dgn kategori seperti point 3\n",
    "kategori=[]\n",
    "def dataproses(bilanganrandom):\n",
    "    for a in bilanganrandom:\n",
    "        if a >= 200:\n",
    "            print(\"Data kategori tinggi:\"+str(a))\n",
    "        elif 100 <= a < 200:\n",
    "            print(\"Data kategori sedang:\"+str(a))\n",
    "        elif a < 100:\n",
    "            print(\"Data kategori rendah:\"+str(a))"
   ]
  },
  {
   "cell_type": "code",
   "execution_count": 25,
   "metadata": {},
   "outputs": [
    {
     "name": "stdout",
     "output_type": "stream",
     "text": [
      "Data kategori rendah:3\n",
      "Data kategori tinggi:500\n"
     ]
    }
   ],
   "source": [
    "bilanganrandom=[3,500]\n",
    "dataproses(bilanganrandom)"
   ]
  },
  {
   "cell_type": "markdown",
   "metadata": {},
   "source": [
    "```\n",
    "FUNGSI LAMDA\n",
    "fungsi anonim yg kecil. fungsi lamda dapat mengambil sejumlah argumen, tetapi hanya dpt memiliki satu ekspresi [3]\n",
    "\n",
    "fungsi disebut anonim karna merka tdk dideklarisasikan dgn cara standar dgn menggunakan kata kunci \"def\"\n",
    "```"
   ]
  },
  {
   "cell_type": "code",
   "execution_count": 26,
   "metadata": {},
   "outputs": [],
   "source": [
    "# fungsi lamda yg menjumlahkan dgn 5\n",
    "x=lambda a:a+5"
   ]
  },
  {
   "cell_type": "code",
   "execution_count": 27,
   "metadata": {},
   "outputs": [
    {
     "name": "stdout",
     "output_type": "stream",
     "text": [
      "13\n"
     ]
    }
   ],
   "source": [
    "print(x(8))"
   ]
  },
  {
   "cell_type": "code",
   "execution_count": 28,
   "metadata": {},
   "outputs": [],
   "source": [
    "jumlah=lambda x, y: x+y"
   ]
  },
  {
   "cell_type": "code",
   "execution_count": 29,
   "metadata": {},
   "outputs": [
    {
     "name": "stdout",
     "output_type": "stream",
     "text": [
      "420\n"
     ]
    }
   ],
   "source": [
    "print(jumlah(20, 400))"
   ]
  },
  {
   "cell_type": "code",
   "execution_count": 1,
   "metadata": {},
   "outputs": [],
   "source": [
    "import math\n",
    "akumulasi = lambda k, i, t: k*math.exp(i*t)"
   ]
  },
  {
   "cell_type": "code",
   "execution_count": 2,
   "metadata": {},
   "outputs": [
    {
     "name": "stdout",
     "output_type": "stream",
     "text": [
      "161607440.21928933\n"
     ]
    }
   ],
   "source": [
    "print(akumulasi(100000000,0.06,8))"
   ]
  },
  {
   "cell_type": "code",
   "execution_count": null,
   "metadata": {},
   "outputs": [],
   "source": []
  }
 ],
 "metadata": {
  "interpreter": {
   "hash": "23de8b414a4c09d593fbd8e0c5bd7084aebbaf951048db0c16457ae2ef34dc87"
  },
  "kernelspec": {
   "display_name": "Python 3.8.8 64-bit ('base': conda)",
   "name": "python3"
  },
  "language_info": {
   "codemirror_mode": {
    "name": "ipython",
    "version": 3
   },
   "file_extension": ".py",
   "mimetype": "text/x-python",
   "name": "python",
   "nbconvert_exporter": "python",
   "pygments_lexer": "ipython3",
   "version": "3.8.8"
  },
  "orig_nbformat": 4
 },
 "nbformat": 4,
 "nbformat_minor": 2
}
