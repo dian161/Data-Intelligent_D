{
 "cells": [
  {
   "cell_type": "markdown",
   "id": "68e1a409",
   "metadata": {},
   "source": [
    "# tuple"
   ]
  },
  {
   "cell_type": "code",
   "execution_count": 6,
   "id": "c2cb43bd",
   "metadata": {},
   "outputs": [
    {
     "data": {
      "text/plain": [
       "('fisika kelas 12', 'biologi kelas 8', 2019, 20)"
      ]
     },
     "execution_count": 6,
     "metadata": {},
     "output_type": "execute_result"
    }
   ],
   "source": [
    "tup1 = ('fisika kelas 12', 'biologi kelas 8', 2019,20)\n",
    "tup2 = (2,3,5,4,6,7)\n",
    "tup3 = \"a\",\"b\",\"c\" \n",
    "tup1"
   ]
  },
  {
   "cell_type": "code",
   "execution_count": 10,
   "id": "e87e41da",
   "metadata": {},
   "outputs": [
    {
     "name": "stdout",
     "output_type": "stream",
     "text": [
      "tup1[0]: fisika kelas 12\n",
      "tup2[1:5]: (3, 5, 4, 6)\n"
     ]
    }
   ],
   "source": [
    "print (\"tup1[0]:\", tup1[0])\n",
    "print (\"tup2[1:5]:\", tup2[1:5])"
   ]
  },
  {
   "cell_type": "code",
   "execution_count": 7,
   "id": "4633a940",
   "metadata": {},
   "outputs": [
    {
     "data": {
      "text/plain": [
       "(2, 3, 5, 4, 6, 7)"
      ]
     },
     "execution_count": 7,
     "metadata": {},
     "output_type": "execute_result"
    }
   ],
   "source": [
    "tup2"
   ]
  },
  {
   "cell_type": "code",
   "execution_count": 8,
   "id": "56ab5484",
   "metadata": {},
   "outputs": [
    {
     "name": "stdout",
     "output_type": "stream",
     "text": [
      "('fisika kelas 12', 'biologi kelas 8', 2019, 20)\n"
     ]
    }
   ],
   "source": [
    "print(tup1)"
   ]
  },
  {
   "cell_type": "code",
   "execution_count": 9,
   "id": "589a3b98",
   "metadata": {},
   "outputs": [
    {
     "data": {
      "text/plain": [
       "('a', 'b', 'c')"
      ]
     },
     "execution_count": 9,
     "metadata": {},
     "output_type": "execute_result"
    }
   ],
   "source": [
    "tup3"
   ]
  },
  {
   "cell_type": "code",
   "execution_count": 11,
   "id": "0930a21d",
   "metadata": {},
   "outputs": [],
   "source": [
    "tup1 = (\"PSBB\",\"Jakarta\",\"diperpanjang\",\"Oktober\",1983,90)\n",
    "tup2 = \"PSBB\",\"Jakarta\",\"diperpanjang\",\"Oktober\",2983,90"
   ]
  },
  {
   "cell_type": "code",
   "execution_count": 13,
   "id": "0aa861c6",
   "metadata": {},
   "outputs": [
    {
     "name": "stdout",
     "output_type": "stream",
     "text": [
      "tup1[1]: PSBB\n",
      "tup2[1:5]: ('Jakarta', 'diperpanjang', 'Oktober', 2983)\n"
     ]
    }
   ],
   "source": [
    "#mengakses nilai tuple\n",
    "print(\"tup1[1]:\",tup1[0])\n",
    "print(\"tup2[1:5]:\",tup2[1:5])"
   ]
  },
  {
   "cell_type": "code",
   "execution_count": 15,
   "id": "fd33fc5b",
   "metadata": {},
   "outputs": [
    {
     "name": "stdout",
     "output_type": "stream",
     "text": [
      "('PSBB', 'Jakarta', 'diperpanjang', 'Oktober', 1983, 90, 'PSBB', 'Jakarta', 'diperpanjang', 'Oktober', 2983, 90)\n"
     ]
    }
   ],
   "source": [
    "#membuat tuple baru\n",
    "tup3 = tup1+tup2\n",
    "print(tup3)"
   ]
  },
  {
   "cell_type": "code",
   "execution_count": 18,
   "id": "ec0709c4",
   "metadata": {},
   "outputs": [],
   "source": [
    "tup1 = (\"Daerah Istimewa Yogyakarta\",\"PPKM Level 1\",2021,\"oktober\",4)\n",
    "tup2 = \"Daerah Istimewa Yogyakarta\",\"PPKM Level 1\",2021,\"oktober\",4\n",
    "tup3 = \"Cinta\",2021"
   ]
  },
  {
   "cell_type": "code",
   "execution_count": 20,
   "id": "89ddfad0",
   "metadata": {},
   "outputs": [
    {
     "data": {
      "text/plain": [
       "'PPKM Level 1'"
      ]
     },
     "execution_count": 20,
     "metadata": {},
     "output_type": "execute_result"
    }
   ],
   "source": [
    "#memanggil elemen ke 2 (urutan ke dua dari tuple 2)\n",
    "tup1[1]"
   ]
  },
  {
   "cell_type": "code",
   "execution_count": 25,
   "id": "abe00792",
   "metadata": {},
   "outputs": [
    {
     "data": {
      "text/plain": [
       "4"
      ]
     },
     "execution_count": 25,
     "metadata": {},
     "output_type": "execute_result"
    }
   ],
   "source": [
    "#memanggil elemen ke 5\n",
    "tup1[4]"
   ]
  },
  {
   "cell_type": "code",
   "execution_count": 26,
   "id": "6fe91dce",
   "metadata": {},
   "outputs": [
    {
     "data": {
      "text/plain": [
       "4"
      ]
     },
     "execution_count": 26,
     "metadata": {},
     "output_type": "execute_result"
    }
   ],
   "source": [
    "#memanggil elemen pertama tapi dari belakang\n",
    "tup1[-1]"
   ]
  },
  {
   "cell_type": "code",
   "execution_count": 27,
   "id": "35d3e863",
   "metadata": {},
   "outputs": [
    {
     "data": {
      "text/plain": [
       "'Daerah Istimewa Yogyakarta'"
      ]
     },
     "execution_count": 27,
     "metadata": {},
     "output_type": "execute_result"
    }
   ],
   "source": [
    "tup1[0]"
   ]
  },
  {
   "cell_type": "code",
   "execution_count": 29,
   "id": "4fccfcff",
   "metadata": {},
   "outputs": [
    {
     "data": {
      "text/plain": [
       "'Daerah Istimewa Yogyakarta'"
      ]
     },
     "execution_count": 29,
     "metadata": {},
     "output_type": "execute_result"
    }
   ],
   "source": [
    "tup1[-0]"
   ]
  },
  {
   "cell_type": "code",
   "execution_count": 31,
   "id": "ac33e370",
   "metadata": {},
   "outputs": [
    {
     "name": "stdout",
     "output_type": "stream",
     "text": [
      "('Daerah Istimewa Yogyakarta', 'PPKM Level 1', 2021, 'oktober', 4, 'Cinta', 2021)\n"
     ]
    }
   ],
   "source": [
    "tup4 = tup1+tup3\n",
    "print(tup4)"
   ]
  },
  {
   "cell_type": "code",
   "execution_count": 35,
   "id": "4c938641",
   "metadata": {},
   "outputs": [
    {
     "data": {
      "text/plain": [
       "5"
      ]
     },
     "execution_count": 35,
     "metadata": {},
     "output_type": "execute_result"
    }
   ],
   "source": [
    "#panjang data\n",
    "len(tup1)"
   ]
  },
  {
   "cell_type": "code",
   "execution_count": 33,
   "id": "c6366eb9",
   "metadata": {},
   "outputs": [
    {
     "data": {
      "text/plain": [
       "5"
      ]
     },
     "execution_count": 33,
     "metadata": {},
     "output_type": "execute_result"
    }
   ],
   "source": [
    "len(tup2)"
   ]
  },
  {
   "cell_type": "code",
   "execution_count": 34,
   "id": "830a27d1",
   "metadata": {},
   "outputs": [
    {
     "data": {
      "text/plain": [
       "2"
      ]
     },
     "execution_count": 34,
     "metadata": {},
     "output_type": "execute_result"
    }
   ],
   "source": [
    "len(tup3)"
   ]
  },
  {
   "cell_type": "markdown",
   "id": "045127a3",
   "metadata": {},
   "source": [
    "# list"
   ]
  },
  {
   "cell_type": "code",
   "execution_count": 36,
   "id": "b14995bb",
   "metadata": {},
   "outputs": [],
   "source": [
    "list1 = [\"kasus\",\"covid\",\"menurun\",\"mendekati angka\",\"100 oran per hari\"]\n",
    "list2 = [1,2,3,5,7,9,11]"
   ]
  },
  {
   "cell_type": "code",
   "execution_count": 40,
   "id": "ad254149",
   "metadata": {},
   "outputs": [
    {
     "data": {
      "text/plain": [
       "9"
      ]
     },
     "execution_count": 40,
     "metadata": {},
     "output_type": "execute_result"
    }
   ],
   "source": [
    "#akses nilai list\n",
    "list2[5]"
   ]
  },
  {
   "cell_type": "code",
   "execution_count": 41,
   "id": "eca3a83c",
   "metadata": {},
   "outputs": [
    {
     "data": {
      "text/plain": [
       "'100 oran per hari'"
      ]
     },
     "execution_count": 41,
     "metadata": {},
     "output_type": "execute_result"
    }
   ],
   "source": [
    "list1[4]"
   ]
  },
  {
   "cell_type": "code",
   "execution_count": 43,
   "id": "f3f54623",
   "metadata": {},
   "outputs": [
    {
     "name": "stdout",
     "output_type": "stream",
     "text": [
      "['kasus', 'covid', 'menurun', 'mendekati angka', '100 oran per hari', 1, 2, 3, 5, 7, 9, 11]\n"
     ]
    }
   ],
   "source": [
    "list3 = list1 + list2\n",
    "print(list3)"
   ]
  },
  {
   "cell_type": "code",
   "execution_count": 45,
   "id": "14e82eea",
   "metadata": {},
   "outputs": [
    {
     "data": {
      "text/plain": [
       "'kasus'"
      ]
     },
     "execution_count": 45,
     "metadata": {},
     "output_type": "execute_result"
    }
   ],
   "source": [
    "list3[0]"
   ]
  },
  {
   "cell_type": "code",
   "execution_count": 46,
   "id": "15ff845d",
   "metadata": {},
   "outputs": [
    {
     "data": {
      "text/plain": [
       "['covid', 'menurun']"
      ]
     },
     "execution_count": 46,
     "metadata": {},
     "output_type": "execute_result"
    }
   ],
   "source": [
    "#memanggil elemen 1 sampai 3 maka dlm bentuk matematis x<3\n",
    "list3[1:3]"
   ]
  },
  {
   "cell_type": "code",
   "execution_count": 47,
   "id": "1d23a4f2",
   "metadata": {},
   "outputs": [
    {
     "data": {
      "text/plain": [
       "['covid', 'menurun', 'mendekati angka', '100 oran per hari']"
      ]
     },
     "execution_count": 47,
     "metadata": {},
     "output_type": "execute_result"
    }
   ],
   "source": [
    "list3[1:5]"
   ]
  },
  {
   "cell_type": "code",
   "execution_count": 48,
   "id": "84f3793d",
   "metadata": {},
   "outputs": [
    {
     "data": {
      "text/plain": [
       "1"
      ]
     },
     "execution_count": 48,
     "metadata": {},
     "output_type": "execute_result"
    }
   ],
   "source": [
    "#menghitung banyaknya elemen dalam list\n",
    "list2.count(9)"
   ]
  },
  {
   "cell_type": "code",
   "execution_count": 54,
   "id": "98fed4bd",
   "metadata": {},
   "outputs": [
    {
     "name": "stdout",
     "output_type": "stream",
     "text": [
      "[2, 3, 5, 7, 9, 11]\n"
     ]
    }
   ],
   "source": [
    "#mengganti/remove elemen\n",
    "list2.remove(1)\n",
    "print(list2)"
   ]
  },
  {
   "cell_type": "code",
   "execution_count": 57,
   "id": "09ffdce4",
   "metadata": {},
   "outputs": [
    {
     "data": {
      "text/plain": [
       "[2, 3, 5, 7, 9, 11]"
      ]
     },
     "execution_count": 57,
     "metadata": {},
     "output_type": "execute_result"
    }
   ],
   "source": [
    "#mengurutkan data\n",
    "list2.sort()\n",
    "list2"
   ]
  },
  {
   "cell_type": "code",
   "execution_count": 56,
   "id": "5ab6a4c9",
   "metadata": {},
   "outputs": [
    {
     "data": {
      "text/plain": [
       "[11, 9, 7, 5, 3, 2]"
      ]
     },
     "execution_count": 56,
     "metadata": {},
     "output_type": "execute_result"
    }
   ],
   "source": [
    "#mengubah urutan elemen dari terakhir ke awal\n",
    "list2.reverse()\n",
    "list2"
   ]
  },
  {
   "cell_type": "markdown",
   "id": "ce374ff6",
   "metadata": {},
   "source": [
    "# dictionary"
   ]
  },
  {
   "cell_type": "code",
   "execution_count": 63,
   "id": "bd01958a",
   "metadata": {},
   "outputs": [
    {
     "name": "stdout",
     "output_type": "stream",
     "text": [
      "Requirement already satisfied: datetime in c:\\users\\hp\\anaconda3\\lib\\site-packages (4.3)\n",
      "Requirement already satisfied: zope.interface in c:\\users\\hp\\anaconda3\\lib\\site-packages (from datetime) (5.3.0)\n",
      "Requirement already satisfied: pytz in c:\\users\\hp\\anaconda3\\lib\\site-packages (from datetime) (2021.1)\n",
      "Requirement already satisfied: setuptools in c:\\users\\hp\\anaconda3\\lib\\site-packages (from zope.interface->datetime) (52.0.0.post20210125)\n"
     ]
    }
   ],
   "source": [
    "!pip install datetime"
   ]
  },
  {
   "cell_type": "code",
   "execution_count": 65,
   "id": "78eaefd9",
   "metadata": {},
   "outputs": [],
   "source": [
    "import datetime"
   ]
  },
  {
   "cell_type": "code",
   "execution_count": 70,
   "id": "1e1d58d5",
   "metadata": {},
   "outputs": [
    {
     "name": "stdout",
     "output_type": "stream",
     "text": [
      "{'nama': 'bima suci', 'nik': '357089100921004', 'tempat lahir': 'sleman', 'tanggal lahir': datetime.datetime(2021, 10, 10, 0, 0), 'pekerjaan': 'masih bayi'}\n"
     ]
    }
   ],
   "source": [
    "ktp1 = {\n",
    "    \"nama\":\"bima suci\",\n",
    "    \"nik\":\"357089100921004\",\n",
    "    \"tempat lahir\":\"sleman\",\n",
    "    \"tanggal lahir\":datetime.datetime(2021,10,10),\n",
    "    \"pekerjaan\":\"masih bayi\"\n",
    "}\n",
    "print(ktp1)"
   ]
  },
  {
   "cell_type": "markdown",
   "id": "94db0849",
   "metadata": {},
   "source": [
    "mengakses dictionary\n",
    "1. menyebutkan kata kunci\n",
    "2. menggunakan get"
   ]
  },
  {
   "cell_type": "code",
   "execution_count": 72,
   "id": "81aaeebc",
   "metadata": {},
   "outputs": [
    {
     "data": {
      "text/plain": [
       "'357089100921004'"
      ]
     },
     "execution_count": 72,
     "metadata": {},
     "output_type": "execute_result"
    }
   ],
   "source": [
    "x = ktp1[\"nik\"]\n",
    "x"
   ]
  },
  {
   "cell_type": "code",
   "execution_count": 81,
   "id": "1e7fd09d",
   "metadata": {},
   "outputs": [
    {
     "data": {
      "text/plain": [
       "'357089100921004'"
      ]
     },
     "execution_count": 81,
     "metadata": {},
     "output_type": "execute_result"
    }
   ],
   "source": [
    "x = ktp1.get(\"nik\")\n",
    "x"
   ]
  },
  {
   "cell_type": "code",
   "execution_count": 83,
   "id": "69280ac5",
   "metadata": {},
   "outputs": [
    {
     "data": {
      "text/plain": [
       "{'nama': 'bima suci',\n",
       " 'nik': '357089100921004',\n",
       " 'tempat lahir': 'jakarta',\n",
       " 'tanggal lahir': datetime.datetime(2021, 10, 10, 0, 0),\n",
       " 'pekerjaan': 'masih bayi'}"
      ]
     },
     "execution_count": 83,
     "metadata": {},
     "output_type": "execute_result"
    }
   ],
   "source": [
    "#mengubah tempat lahir\n",
    "ktp1[\"tempat lahir\"]=\"jakarta\"\n",
    "ktp1"
   ]
  },
  {
   "cell_type": "code",
   "execution_count": 85,
   "id": "ad387283",
   "metadata": {},
   "outputs": [
    {
     "data": {
      "text/plain": [
       "{'nama': 'bima suci',\n",
       " 'nik': '357089100921004',\n",
       " 'tempat lahir': 'jakarta',\n",
       " 'tanggal lahir': datetime.datetime(2021, 10, 10, 0, 0),\n",
       " 'pekerjaan': 'masih bayi',\n",
       " 'kewarganegaraan': 'wni'}"
      ]
     },
     "execution_count": 85,
     "metadata": {},
     "output_type": "execute_result"
    }
   ],
   "source": [
    "#menambah elemen data \n",
    "ktp1[\"kewarganegaraan\"]=\"wni\"\n",
    "ktp1"
   ]
  },
  {
   "cell_type": "code",
   "execution_count": null,
   "id": "fea1be6d",
   "metadata": {},
   "outputs": [],
   "source": []
  }
 ],
 "metadata": {
  "kernelspec": {
   "display_name": "Python 3",
   "language": "python",
   "name": "python3"
  },
  "language_info": {
   "codemirror_mode": {
    "name": "ipython",
    "version": 3
   },
   "file_extension": ".py",
   "mimetype": "text/x-python",
   "name": "python",
   "nbconvert_exporter": "python",
   "pygments_lexer": "ipython3",
   "version": "3.8.8"
  }
 },
 "nbformat": 4,
 "nbformat_minor": 5
}
