{
 "cells": [
  {
   "cell_type": "markdown",
   "id": "825bad3f",
   "metadata": {},
   "source": [
    "# # # PART 1 # # #"
   ]
  },
  {
   "cell_type": "markdown",
   "id": "db5b725a",
   "metadata": {},
   "source": [
    "# Fungsi"
   ]
  },
  {
   "cell_type": "markdown",
   "id": "5df17348",
   "metadata": {},
   "source": [
    "```\n",
    "satu blok yg terorganisir dan dpt digunakan kembali. \n",
    "fungsi akan berjalan jika dipanngil. kita dpt input data ke dlm fungsi. fungsi trsebut akan mengeluarkan data sebagai berikut.\n",
    "\n",
    "*fungsi terdiri dari:\n",
    "1. header dan body\n",
    "header berisi\n",
    "```"
   ]
  },
  {
   "cell_type": "code",
   "execution_count": 2,
   "id": "2978acaf",
   "metadata": {},
   "outputs": [],
   "source": [
    "def functionname(parameters):\n",
    "    \"function_docstring\"\n",
    "    function_suite\n",
    "    return [expression]"
   ]
  },
  {
   "cell_type": "markdown",
   "id": "2a288745",
   "metadata": {},
   "source": [
    "# A Membuat variabel di dalam python"
   ]
  },
  {
   "cell_type": "code",
   "execution_count": 4,
   "id": "f4d42e22",
   "metadata": {},
   "outputs": [
    {
     "name": "stdout",
     "output_type": "stream",
     "text": [
      "hello word\n"
     ]
    }
   ],
   "source": [
    "print(\"hello word\")"
   ]
  },
  {
   "cell_type": "code",
   "execution_count": 5,
   "id": "9c98e8c7",
   "metadata": {},
   "outputs": [],
   "source": [
    "a=13"
   ]
  },
  {
   "cell_type": "code",
   "execution_count": 7,
   "id": "3131c05e",
   "metadata": {},
   "outputs": [
    {
     "data": {
      "text/plain": [
       "26"
      ]
     },
     "execution_count": 7,
     "metadata": {},
     "output_type": "execute_result"
    }
   ],
   "source": [
    "a*2"
   ]
  },
  {
   "cell_type": "code",
   "execution_count": 8,
   "id": "cb99f035",
   "metadata": {},
   "outputs": [
    {
     "data": {
      "text/plain": [
       "17"
      ]
     },
     "execution_count": 8,
     "metadata": {},
     "output_type": "execute_result"
    }
   ],
   "source": [
    "a+4"
   ]
  },
  {
   "cell_type": "markdown",
   "id": "befa1a07",
   "metadata": {},
   "source": [
    "```\n",
    "sebagai contoh, 13 adalah objek dri kelas \"integer\"\n",
    "hello word adalh objek dari kelas \"string\"\n",
    "```"
   ]
  },
  {
   "cell_type": "code",
   "execution_count": 12,
   "id": "23d30255",
   "metadata": {},
   "outputs": [],
   "source": [
    "s='python'"
   ]
  },
  {
   "cell_type": "code",
   "execution_count": 13,
   "id": "9c9becf2",
   "metadata": {},
   "outputs": [
    {
     "data": {
      "text/plain": [
       "'PYTHON'"
      ]
     },
     "execution_count": 13,
     "metadata": {},
     "output_type": "execute_result"
    }
   ],
   "source": [
    "s.upper()"
   ]
  },
  {
   "cell_type": "code",
   "execution_count": 14,
   "id": "1dd37b6e",
   "metadata": {},
   "outputs": [
    {
     "data": {
      "text/plain": [
       "'python'"
      ]
     },
     "execution_count": 14,
     "metadata": {},
     "output_type": "execute_result"
    }
   ],
   "source": [
    "s.lower()"
   ]
  },
  {
   "cell_type": "markdown",
   "id": "73612ab9",
   "metadata": {},
   "source": [
    "# B Membuat konstanta"
   ]
  },
  {
   "cell_type": "code",
   "execution_count": 15,
   "id": "7ab6627c",
   "metadata": {},
   "outputs": [],
   "source": [
    "#mendefinisikan fungsi phi (3,14)\n",
    "def pi():\n",
    "    return 3.1415"
   ]
  },
  {
   "cell_type": "code",
   "execution_count": 22,
   "id": "40b6696b",
   "metadata": {},
   "outputs": [
    {
     "data": {
      "text/plain": [
       "3.1415"
      ]
     },
     "execution_count": 22,
     "metadata": {},
     "output_type": "execute_result"
    }
   ],
   "source": [
    "pi()"
   ]
  },
  {
   "cell_type": "code",
   "execution_count": 25,
   "id": "816405ea",
   "metadata": {},
   "outputs": [],
   "source": [
    "#penggunaan fungsi pi()\n",
    "radius = 3\n",
    "luas = pi()*(radius**2)"
   ]
  },
  {
   "cell_type": "code",
   "execution_count": 26,
   "id": "b26cd31e",
   "metadata": {},
   "outputs": [
    {
     "data": {
      "text/plain": [
       "28.273500000000002"
      ]
     },
     "execution_count": 26,
     "metadata": {},
     "output_type": "execute_result"
    }
   ],
   "source": [
    "luas"
   ]
  },
  {
   "cell_type": "code",
   "execution_count": 18,
   "id": "f5603a51",
   "metadata": {},
   "outputs": [],
   "source": [
    "import math"
   ]
  },
  {
   "cell_type": "code",
   "execution_count": 19,
   "id": "815aa956",
   "metadata": {},
   "outputs": [
    {
     "data": {
      "text/plain": [
       "3.141592653589793"
      ]
     },
     "execution_count": 19,
     "metadata": {},
     "output_type": "execute_result"
    }
   ],
   "source": [
    "math.pi"
   ]
  },
  {
   "cell_type": "code",
   "execution_count": 20,
   "id": "cbb61d0a",
   "metadata": {},
   "outputs": [],
   "source": [
    "math.pi += 4"
   ]
  },
  {
   "cell_type": "code",
   "execution_count": 21,
   "id": "36868f46",
   "metadata": {},
   "outputs": [
    {
     "data": {
      "text/plain": [
       "7.141592653589793"
      ]
     },
     "execution_count": 21,
     "metadata": {},
     "output_type": "execute_result"
    }
   ],
   "source": [
    "math.pi"
   ]
  },
  {
   "cell_type": "markdown",
   "id": "ee5751b2",
   "metadata": {},
   "source": [
    "\n",
    "# C Membuat fungsi tanpa nama balik (return)"
   ]
  },
  {
   "cell_type": "markdown",
   "id": "c086ae5e",
   "metadata": {},
   "source": [
    "menggunakan kata kunci def"
   ]
  },
  {
   "cell_type": "code",
   "execution_count": 33,
   "id": "34fe270e",
   "metadata": {},
   "outputs": [],
   "source": [
    "def tulis(s,n):\n",
    "    for i in range(0,n):\n",
    "        print(s)"
   ]
  },
  {
   "cell_type": "code",
   "execution_count": 34,
   "id": "8c18e383",
   "metadata": {},
   "outputs": [
    {
     "name": "stdout",
     "output_type": "stream",
     "text": [
      "python\n",
      "python\n",
      "python\n"
     ]
    }
   ],
   "source": [
    "tulis('python',3)"
   ]
  },
  {
   "cell_type": "code",
   "execution_count": 35,
   "id": "5d331c8d",
   "metadata": {},
   "outputs": [
    {
     "name": "stdout",
     "output_type": "stream",
     "text": [
      "cantik\n",
      "cantik\n",
      "cantik\n",
      "cantik\n",
      "cantik\n",
      "cantik\n",
      "cantik\n",
      "cantik\n",
      "cantik\n",
      "cantik\n"
     ]
    }
   ],
   "source": [
    "tulis('cantik',10)"
   ]
  },
  {
   "cell_type": "code",
   "execution_count": 38,
   "id": "36f24ffa",
   "metadata": {},
   "outputs": [
    {
     "name": "stdout",
     "output_type": "stream",
     "text": [
      "1\n",
      "3\n",
      "5\n",
      "7\n",
      "9\n"
     ]
    }
   ],
   "source": [
    "for i in range(1,11):\n",
    "    if(i%2 ==1):\n",
    "       tulis(i,1)"
   ]
  },
  {
   "cell_type": "markdown",
   "id": "ad2413cc",
   "metadata": {},
   "source": [
    "# D membuat fungsi dengan nilai balik"
   ]
  },
  {
   "cell_type": "code",
   "execution_count": 28,
   "id": "9f8c8235",
   "metadata": {},
   "outputs": [],
   "source": [
    "def kali(a,b):\n",
    "    return a*b"
   ]
  },
  {
   "cell_type": "code",
   "execution_count": 29,
   "id": "dd1def64",
   "metadata": {},
   "outputs": [],
   "source": [
    "x = kali(2,3)"
   ]
  },
  {
   "cell_type": "code",
   "execution_count": 30,
   "id": "fbc83708",
   "metadata": {},
   "outputs": [
    {
     "data": {
      "text/plain": [
       "6"
      ]
     },
     "execution_count": 30,
     "metadata": {},
     "output_type": "execute_result"
    }
   ],
   "source": [
    "x"
   ]
  },
  {
   "cell_type": "code",
   "execution_count": 31,
   "id": "b34674b0",
   "metadata": {},
   "outputs": [],
   "source": [
    "y = kali(4,8)"
   ]
  },
  {
   "cell_type": "code",
   "execution_count": 32,
   "id": "a7f605ec",
   "metadata": {},
   "outputs": [
    {
     "data": {
      "text/plain": [
       "32"
      ]
     },
     "execution_count": 32,
     "metadata": {},
     "output_type": "execute_result"
    }
   ],
   "source": [
    "y"
   ]
  },
  {
   "cell_type": "markdown",
   "id": "038ea010",
   "metadata": {},
   "source": [
    "# E membuat kelas"
   ]
  },
  {
   "cell_type": "markdown",
   "id": "a17712b5",
   "metadata": {},
   "source": [
    "menggunakan kata kunci class"
   ]
  },
  {
   "cell_type": "code",
   "execution_count": 44,
   "id": "04190dcf",
   "metadata": {},
   "outputs": [],
   "source": [
    "class segiempat():\n",
    "    def __init__(self,p,l):\n",
    "        self.panjang = p\n",
    "        self.lebar = l\n",
    "    def luas(self):\n",
    "        return self.panjang*self.lebar\n",
    "    def keliling(self):\n",
    "        return 2*(self.panjang+self.lebar)"
   ]
  },
  {
   "cell_type": "code",
   "execution_count": 45,
   "id": "633b0b20",
   "metadata": {},
   "outputs": [
    {
     "data": {
      "text/plain": [
       "48"
      ]
     },
     "execution_count": 45,
     "metadata": {},
     "output_type": "execute_result"
    }
   ],
   "source": [
    "#contoh\n",
    "obj = segiempat(8,6)\n",
    "obj.luas()"
   ]
  },
  {
   "cell_type": "code",
   "execution_count": 46,
   "id": "bc3c2292",
   "metadata": {},
   "outputs": [
    {
     "data": {
      "text/plain": [
       "28"
      ]
     },
     "execution_count": 46,
     "metadata": {},
     "output_type": "execute_result"
    }
   ],
   "source": [
    "obj.keliling()"
   ]
  },
  {
   "cell_type": "markdown",
   "id": "9d874724",
   "metadata": {},
   "source": [
    "# Latihan 1"
   ]
  },
  {
   "cell_type": "markdown",
   "id": "517e49d5",
   "metadata": {},
   "source": [
    "buatlah fungsi untuk menghitung luas dan keliling lingkaran menggunakan class"
   ]
  },
  {
   "cell_type": "code",
   "execution_count": 67,
   "id": "86e43639",
   "metadata": {},
   "outputs": [],
   "source": [
    "class lingkaran():\n",
    "    def __init__(self,r,pi):\n",
    "        self.jarijari = r\n",
    "        self.pi = pi\n",
    "    def luas(self):\n",
    "        return self.pi*(self.jarijari*self.jarijari)\n",
    "    def keliling(self):\n",
    "        return 2*self.pi*self.jarijari"
   ]
  },
  {
   "cell_type": "code",
   "execution_count": 71,
   "id": "f5eb8fa9",
   "metadata": {},
   "outputs": [
    {
     "data": {
      "text/plain": [
       "615.44"
      ]
     },
     "execution_count": 71,
     "metadata": {},
     "output_type": "execute_result"
    }
   ],
   "source": [
    "#Diketahui sebuah lingkaran memiliki diameter 28 cm. Berapakah luas lingkaran tersebut?\n",
    "soal1 = lingkaran(14,3.14)\n",
    "soal1.luas()"
   ]
  },
  {
   "cell_type": "code",
   "execution_count": 74,
   "id": "71fc1e7d",
   "metadata": {},
   "outputs": [
    {
     "data": {
      "text/plain": [
       "87.92"
      ]
     },
     "execution_count": 74,
     "metadata": {},
     "output_type": "execute_result"
    }
   ],
   "source": [
    "#Sebuah lingkaran memiliki jari-jari 14 cm. Berapakah keliling lingkaran tersebut?\n",
    "soal2 = lingkaran(14,3.14)\n",
    "soal1.keliling()"
   ]
  },
  {
   "cell_type": "markdown",
   "id": "73fd816e",
   "metadata": {},
   "source": [
    "# # # PART 2 # # #"
   ]
  },
  {
   "cell_type": "markdown",
   "id": "bd59b7b6",
   "metadata": {},
   "source": [
    "# Fungsi_Part 2"
   ]
  },
  {
   "cell_type": "code",
   "execution_count": 3,
   "id": "5b83fdd9",
   "metadata": {},
   "outputs": [],
   "source": [
    "def cetak():\n",
    "    print(\"mata kuliah data intelligent dengan menggunakan python\")"
   ]
  },
  {
   "cell_type": "code",
   "execution_count": 5,
   "id": "74562ef2",
   "metadata": {},
   "outputs": [
    {
     "name": "stdout",
     "output_type": "stream",
     "text": [
      "mata kuliah data intelligent dengan menggunakan python\n"
     ]
    }
   ],
   "source": [
    "cetak()"
   ]
  },
  {
   "cell_type": "code",
   "execution_count": 8,
   "id": "ce80e080",
   "metadata": {},
   "outputs": [],
   "source": [
    "def kuadrat():\n",
    "    \"return nilai kuadrat 8\"\n",
    "    nilai=8+2\n",
    "    return(nilai)"
   ]
  },
  {
   "cell_type": "code",
   "execution_count": 10,
   "id": "5f5823d7",
   "metadata": {},
   "outputs": [
    {
     "data": {
      "text/plain": [
       "10"
      ]
     },
     "execution_count": 10,
     "metadata": {},
     "output_type": "execute_result"
    }
   ],
   "source": [
    "kuadrat()"
   ]
  },
  {
   "cell_type": "markdown",
   "id": "3823d73a",
   "metadata": {},
   "source": [
    "# contoh 1"
   ]
  },
  {
   "cell_type": "markdown",
   "id": "f5ba12af",
   "metadata": {},
   "source": [
    "buatlah fungsi dengan nama saya(), berikan docstring, badan fungsi adalah nilai_saya(isi). Dengan sebaran nilai: str, int, float().\n",
    "\n",
    "contoh: nilai_saya=\"orang yg sangat suka melakukan coding\""
   ]
  },
  {
   "cell_type": "code",
   "execution_count": 16,
   "id": "5e2e632e",
   "metadata": {},
   "outputs": [],
   "source": [
    "def saya():\n",
    "    \"return nilai saya\"\n",
    "    nilai_saya=str(1) + \"orang yg sangat suka melakukan coding\"\n",
    "    return (nilai_saya)"
   ]
  },
  {
   "cell_type": "code",
   "execution_count": 18,
   "id": "906f9dca",
   "metadata": {},
   "outputs": [
    {
     "data": {
      "text/plain": [
       "'1orang yg sangat suka melakukan coding'"
      ]
     },
     "execution_count": 18,
     "metadata": {},
     "output_type": "execute_result"
    }
   ],
   "source": [
    "saya()"
   ]
  },
  {
   "cell_type": "markdown",
   "id": "d803e8f2",
   "metadata": {},
   "source": [
    "# G Fungsi dengan satu parameter input"
   ]
  },
  {
   "cell_type": "code",
   "execution_count": 20,
   "id": "66f56d75",
   "metadata": {},
   "outputs": [],
   "source": [
    "def kuadrat(angka):\n",
    "    \"return nilai kuadrat dari angka\"\n",
    "    nilai=angka**2\n",
    "    return(nilai)"
   ]
  },
  {
   "cell_type": "code",
   "execution_count": 21,
   "id": "81ab86c1",
   "metadata": {},
   "outputs": [
    {
     "data": {
      "text/plain": [
       "81"
      ]
     },
     "execution_count": 21,
     "metadata": {},
     "output_type": "execute_result"
    }
   ],
   "source": [
    "kuadrat(9)"
   ]
  },
  {
   "cell_type": "markdown",
   "id": "d979095c",
   "metadata": {},
   "source": [
    "# H Fungsi dengan lebih dari satu parameter"
   ]
  },
  {
   "cell_type": "code",
   "execution_count": 23,
   "id": "1e052b48",
   "metadata": {},
   "outputs": [],
   "source": [
    "#perhatikan return dalam fungsi berikut\n",
    "def uii(nama,nim):\n",
    "    print(\"nama :\", nama)\n",
    "    print(\"nim :\", nim)\n",
    "    return"
   ]
  },
  {
   "cell_type": "code",
   "execution_count": 24,
   "id": "e4a41b60",
   "metadata": {},
   "outputs": [
    {
     "name": "stdout",
     "output_type": "stream",
     "text": [
      "nama : ayundyah\n",
      "nim : 136111102\n"
     ]
    }
   ],
   "source": [
    "uii('ayundyah', 136111102)"
   ]
  },
  {
   "cell_type": "markdown",
   "id": "cf5c0d74",
   "metadata": {},
   "source": [
    "# Latihan 2"
   ]
  },
  {
   "cell_type": "markdown",
   "id": "4c09cd4e",
   "metadata": {},
   "source": [
    "buatlah input dengan nim dan nama praktikan"
   ]
  },
  {
   "cell_type": "code",
   "execution_count": 29,
   "id": "4ecf25b6",
   "metadata": {},
   "outputs": [],
   "source": [
    "def UII(Nama,Nim):\n",
    "    print(\"Nama :\", Nama)\n",
    "    print(\"Nim :\", Nim)\n",
    "    return"
   ]
  },
  {
   "cell_type": "code",
   "execution_count": 31,
   "id": "d5a18c0b",
   "metadata": {},
   "outputs": [
    {
     "name": "stdout",
     "output_type": "stream",
     "text": [
      "Nama : DIAN WIDYA LESTARI\n",
      "Nim : 19611129\n"
     ]
    }
   ],
   "source": [
    "UII('DIAN WIDYA LESTARI', 19611129)"
   ]
  },
  {
   "cell_type": "markdown",
   "id": "72991dc8",
   "metadata": {},
   "source": [
    "\n",
    "# I Fungsi dengan lebih dari satu return"
   ]
  },
  {
   "cell_type": "markdown",
   "id": "6d83aafb",
   "metadata": {},
   "source": [
    "ditampilkan dalam bentuk tuple"
   ]
  },
  {
   "cell_type": "code",
   "execution_count": 32,
   "id": "758a8f1d",
   "metadata": {},
   "outputs": [],
   "source": [
    "buah=(\"apel\",\"jeruk\",\"pisang\")"
   ]
  },
  {
   "cell_type": "code",
   "execution_count": 33,
   "id": "9759a459",
   "metadata": {},
   "outputs": [
    {
     "name": "stdout",
     "output_type": "stream",
     "text": [
      "('apel', 'jeruk', 'pisang')\n"
     ]
    }
   ],
   "source": [
    "print(buah)"
   ]
  },
  {
   "cell_type": "code",
   "execution_count": 36,
   "id": "bfa6dc1c",
   "metadata": {},
   "outputs": [
    {
     "name": "stdout",
     "output_type": "stream",
     "text": [
      "apel\n",
      "jeruk\n"
     ]
    }
   ],
   "source": [
    "a,b,c=buah\n",
    "print(a)\n",
    "print(b)"
   ]
  },
  {
   "cell_type": "code",
   "execution_count": 37,
   "id": "73da1f1f",
   "metadata": {},
   "outputs": [],
   "source": [
    "#gunakan tuple untuk return yg lebih dari satu\n",
    "def ukuran(a,b):\n",
    "    \"return keliling dan luas persegi panjang\"\n",
    "    keliling=2*(a+b)\n",
    "    luas=a*b\n",
    "    return(keliling, luas)"
   ]
  },
  {
   "cell_type": "code",
   "execution_count": 38,
   "id": "09504e0d",
   "metadata": {},
   "outputs": [
    {
     "data": {
      "text/plain": [
       "(24, 32)"
      ]
     },
     "execution_count": 38,
     "metadata": {},
     "output_type": "execute_result"
    }
   ],
   "source": [
    "ukuran(4,8)"
   ]
  },
  {
   "cell_type": "code",
   "execution_count": 39,
   "id": "579b6644",
   "metadata": {},
   "outputs": [],
   "source": [
    "kel, ls=ukuran(4,8)"
   ]
  },
  {
   "cell_type": "code",
   "execution_count": 40,
   "id": "d02af57c",
   "metadata": {},
   "outputs": [
    {
     "data": {
      "text/plain": [
       "24"
      ]
     },
     "execution_count": 40,
     "metadata": {},
     "output_type": "execute_result"
    }
   ],
   "source": [
    "kel"
   ]
  },
  {
   "cell_type": "code",
   "execution_count": 41,
   "id": "97d780b8",
   "metadata": {},
   "outputs": [
    {
     "data": {
      "text/plain": [
       "32"
      ]
     },
     "execution_count": 41,
     "metadata": {},
     "output_type": "execute_result"
    }
   ],
   "source": [
    "ls"
   ]
  },
  {
   "cell_type": "code",
   "execution_count": 43,
   "id": "744c8f05",
   "metadata": {},
   "outputs": [
    {
     "name": "stdout",
     "output_type": "stream",
     "text": [
      "24\n",
      "32\n"
     ]
    }
   ],
   "source": [
    "print(kel)\n",
    "print(ls)"
   ]
  },
  {
   "cell_type": "markdown",
   "id": "fd9001c0",
   "metadata": {},
   "source": [
    "# Contoh 2"
   ]
  },
  {
   "cell_type": "markdown",
   "id": "1dbd8fe6",
   "metadata": {},
   "source": [
    "```\n",
    "buatlah fungsi pembungaan berikut:\n",
    "\n",
    "1) Bunga tunggal\n",
    "   bunga efektif: ie=(rumus)\n",
    "   nilai akumulasi: At=k*(1+it)\n",
    "2) Bunga majemuk\n",
    "   bunga efektif: ie=i\n",
    "   nilai akumulasi: At=k*(1+it)^t\n",
    "~~~~~~~~~~~~~~~~~~~~~~~~~~~~~~~~~~~~~~~~~~~~~~~~~~~~~~~~~~~~~~~~~~~~~~~~~~~\n",
    "return ke nilai akumulasi bunga tunggal dan majemuk\n",
    "pil = 1 untuk memilih bunga tunggal, pil = isinya untuk bunga majemuk\n",
    "i = bunga\n",
    "t = periode\n",
    "k = model\n",
    "   \n",
    "```"
   ]
  },
  {
   "cell_type": "code",
   "execution_count": 4,
   "metadata": {},
   "outputs": [],
   "source": [
    "import math"
   ]
  },
  {
   "cell_type": "code",
   "execution_count": 9,
   "metadata": {},
   "outputs": [],
   "source": [
    "# nilai akumulasi bunga kontinu\n",
    "\n",
    "def bunga(k,i,t):\n",
    "    if pil ==1:\n",
    "        ie = i/(1+i*(t-1))\n",
    "        ak = k*(1+i)**t\n",
    "    else:\n",
    "        ie = i\n",
    "        ak = k*(1+i)**t\n",
    "    return(ie, ak)"
   ]
  },
  {
   "cell_type": "code",
   "execution_count": 10,
   "metadata": {},
   "outputs": [
    {
     "ename": "NameError",
     "evalue": "name 'pil' is not defined",
     "output_type": "error",
     "traceback": [
      "\u001b[1;31m---------------------------------------------------------------------------\u001b[0m",
      "\u001b[1;31mNameError\u001b[0m                                 Traceback (most recent call last)",
      "\u001b[1;32m<ipython-input-10-bdd836ec9638>\u001b[0m in \u001b[0;36m<module>\u001b[1;34m\u001b[0m\n\u001b[1;32m----> 1\u001b[1;33m \u001b[0mbunga\u001b[0m\u001b[1;33m(\u001b[0m\u001b[1;36m10000000\u001b[0m\u001b[1;33m,\u001b[0m\u001b[1;36m0.06\u001b[0m\u001b[1;33m,\u001b[0m\u001b[1;36m8\u001b[0m\u001b[1;33m)\u001b[0m\u001b[1;33m\u001b[0m\u001b[1;33m\u001b[0m\u001b[0m\n\u001b[0m",
      "\u001b[1;32m<ipython-input-9-a7c0edb71015>\u001b[0m in \u001b[0;36mbunga\u001b[1;34m(k, i, t)\u001b[0m\n\u001b[0;32m      2\u001b[0m \u001b[1;33m\u001b[0m\u001b[0m\n\u001b[0;32m      3\u001b[0m \u001b[1;32mdef\u001b[0m \u001b[0mbunga\u001b[0m\u001b[1;33m(\u001b[0m\u001b[0mk\u001b[0m\u001b[1;33m,\u001b[0m\u001b[0mi\u001b[0m\u001b[1;33m,\u001b[0m\u001b[0mt\u001b[0m\u001b[1;33m)\u001b[0m\u001b[1;33m:\u001b[0m\u001b[1;33m\u001b[0m\u001b[1;33m\u001b[0m\u001b[0m\n\u001b[1;32m----> 4\u001b[1;33m     \u001b[1;32mif\u001b[0m \u001b[0mpil\u001b[0m \u001b[1;33m==\u001b[0m\u001b[1;36m1\u001b[0m\u001b[1;33m:\u001b[0m\u001b[1;33m\u001b[0m\u001b[1;33m\u001b[0m\u001b[0m\n\u001b[0m\u001b[0;32m      5\u001b[0m         \u001b[0mie\u001b[0m \u001b[1;33m=\u001b[0m \u001b[0mi\u001b[0m\u001b[1;33m/\u001b[0m\u001b[1;33m(\u001b[0m\u001b[1;36m1\u001b[0m\u001b[1;33m+\u001b[0m\u001b[0mi\u001b[0m\u001b[1;33m*\u001b[0m\u001b[1;33m(\u001b[0m\u001b[0mt\u001b[0m\u001b[1;33m-\u001b[0m\u001b[1;36m1\u001b[0m\u001b[1;33m)\u001b[0m\u001b[1;33m)\u001b[0m\u001b[1;33m\u001b[0m\u001b[1;33m\u001b[0m\u001b[0m\n\u001b[0;32m      6\u001b[0m         \u001b[0mak\u001b[0m \u001b[1;33m=\u001b[0m \u001b[0mk\u001b[0m\u001b[1;33m*\u001b[0m\u001b[1;33m(\u001b[0m\u001b[1;36m1\u001b[0m\u001b[1;33m+\u001b[0m\u001b[0mi\u001b[0m\u001b[1;33m)\u001b[0m\u001b[1;33m**\u001b[0m\u001b[0mt\u001b[0m\u001b[1;33m\u001b[0m\u001b[1;33m\u001b[0m\u001b[0m\n",
      "\u001b[1;31mNameError\u001b[0m: name 'pil' is not defined"
     ]
    }
   ],
   "source": [
    "bunga(10000000,0.06,8)"
   ]
  },
  {
   "cell_type": "markdown",
   "metadata": {},
   "source": [
    "```\n",
    "def presentvalue(At, i, t):\n",
    "import math\n",
    "'''\n",
    "Fungsi menentukan present value bunga tunggal, majemuk\n",
    "'''\n",
    "pv_tunggal = At/(1+i*t)\n",
    "pv_majemuk = At*(1+i)**(-t)\n",
    "pv_kontinu = At*math.exp(-i*t)\n",
    "return(pv_tunggal, pv_majemuk, pv_kontinu)\n",
    "```"
   ]
  },
  {
   "cell_type": "code",
   "execution_count": 18,
   "metadata": {},
   "outputs": [],
   "source": [
    "def manhattan(x1, y1, x2, y2):\n",
    "    abs1 = abs(x1 - x2)\n",
    "    abs2 = abs(y1 - y2)\n",
    "    jarak = abs1 + abs2\n",
    "    return(jarak)"
   ]
  },
  {
   "cell_type": "code",
   "execution_count": 19,
   "metadata": {},
   "outputs": [
    {
     "data": {
      "text/plain": [
       "16"
      ]
     },
     "execution_count": 19,
     "metadata": {},
     "output_type": "execute_result"
    }
   ],
   "source": [
    "manhattan(-2,18,6,10)"
   ]
  },
  {
   "cell_type": "code",
   "execution_count": 20,
   "metadata": {},
   "outputs": [],
   "source": [
    "import numpy as np"
   ]
  },
  {
   "cell_type": "code",
   "execution_count": 21,
   "metadata": {},
   "outputs": [],
   "source": [
    "inflasi_jogja = np.array([1.24, 0.08, -0.07, 1.04, -0.09, -1.02, 0.05, 1.34, 2.01]) \n",
    "inflasi_baru = np.array([0.09, -0.07, 0.08, 1.23])"
   ]
  },
  {
   "cell_type": "code",
   "execution_count": 26,
   "metadata": {},
   "outputs": [
    {
     "name": "stdout",
     "output_type": "stream",
     "text": [
      "[ 1.24  0.08 -0.07  1.04 -0.09 -1.02  0.05  1.34  2.01  0.09 -0.07  0.08\n",
      "  1.23]\n"
     ]
    }
   ],
   "source": [
    "gabungan = np.append(inflasi_jogja,inflasi_baru, axis=0)\n",
    "print(gabungan)"
   ]
  },
  {
   "cell_type": "code",
   "execution_count": 24,
   "metadata": {},
   "outputs": [],
   "source": [
    "dian = ([[1,2,3,4],[5,6,7]])\n",
    "print()"
   ]
  },
  {
   "cell_type": "code",
   "execution_count": 53,
   "id": "602c639b",
   "metadata": {},
   "outputs": [],
   "source": [
    "#buat fungsi pembungaan\n",
    "\n",
    "def bunga(pil,k,i,t):\n",
    "    if pil == 1:\n",
    "        ie = i/(1+i*(t-1))\n",
    "        ak = k*(1+i)**t\n",
    "    else:\n",
    "        ie = i\n",
    "        ak = k*(1+i)**t\n",
    "    return(ie, ak)"
   ]
  },
  {
   "cell_type": "code",
   "execution_count": 56,
   "id": "3b4bcedf",
   "metadata": {},
   "outputs": [
    {
     "name": "stdout",
     "output_type": "stream",
     "text": [
      "0.08 136.04889600000004\n"
     ]
    }
   ],
   "source": [
    "#berikan return pada dua objek berbeda a,b\n",
    "a,b=bunga(2,100,0.08,4)\n",
    "print(a,b)"
   ]
  },
  {
   "cell_type": "code",
   "execution_count": null,
   "id": "388a2155",
   "metadata": {},
   "outputs": [],
   "source": []
  }
 ],
 "metadata": {
  "interpreter": {
   "hash": "23de8b414a4c09d593fbd8e0c5bd7084aebbaf951048db0c16457ae2ef34dc87"
  },
  "kernelspec": {
   "display_name": "Python 3.8.8 64-bit ('base': conda)",
   "name": "python3"
  },
  "language_info": {
   "codemirror_mode": {
    "name": "ipython",
    "version": 3
   },
   "file_extension": ".py",
   "mimetype": "text/x-python",
   "name": "python",
   "nbconvert_exporter": "python",
   "pygments_lexer": "ipython3",
   "version": "3.8.8"
  }
 },
 "nbformat": 4,
 "nbformat_minor": 5
}
