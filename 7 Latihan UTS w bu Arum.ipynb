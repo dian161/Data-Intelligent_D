{
 "cells": [
  {
   "cell_type": "markdown",
   "metadata": {},
   "source": [
    "MEMBUAT FUNGSI"
   ]
  },
  {
   "cell_type": "code",
   "execution_count": 2,
   "metadata": {},
   "outputs": [],
   "source": [
    "def dataproses(besar):\n",
    "    if besar < 99.99:\n",
    "        print(\"Data proses rendah:\"+str(besar)+\"MB\")\n",
    "    elif besar < 149.99:\n",
    "        print(\"Data proses sedang:\"+str(besar)+\"MB\")\n",
    "    elif besar < 199.99:\n",
    "        print(\"Data proses tinggi:\"+str(besar)+\"MB\")\n",
    "    else:\n",
    "        print(\"Data proses sangat tinggi:\"+str(besar)+\"MB\")"
   ]
  },
  {
   "cell_type": "code",
   "execution_count": 4,
   "metadata": {},
   "outputs": [
    {
     "name": "stdout",
     "output_type": "stream",
     "text": [
      "Data proses sedang:145MB\n"
     ]
    }
   ],
   "source": [
    "dataproses(145)"
   ]
  },
  {
   "cell_type": "markdown",
   "metadata": {},
   "source": [
    "BERUPA LIST"
   ]
  },
  {
   "cell_type": "code",
   "execution_count": 5,
   "metadata": {},
   "outputs": [],
   "source": [
    "besar=[148,150,200,300,400,500]"
   ]
  },
  {
   "cell_type": "code",
   "execution_count": 11,
   "metadata": {},
   "outputs": [],
   "source": [
    "kategori=[]\n",
    "def dataproses(besar):\n",
    "    for i in besar:\n",
    "        if i < 99.99:\n",
    "            print(\"Data proses rendah:\"+str(i)+\"MB\")\n",
    "        elif i < 149.99:\n",
    "            print(\"Data proses sedang:\"+str(i)+\"MB\")\n",
    "        elif i < 199.99:\n",
    "            print(\"Data proses tinggi:\"+str(i)+\"MB\")\n",
    "        else:\n",
    "            print(\"Data proses sangat tinggi:\"+str(i)+\"MB\")"
   ]
  },
  {
   "cell_type": "code",
   "execution_count": 13,
   "metadata": {},
   "outputs": [
    {
     "name": "stdout",
     "output_type": "stream",
     "text": [
      "Data proses sedang:140MB\n",
      "Data proses tinggi:150MB\n",
      "Data proses sangat tinggi:200MB\n",
      "Data proses sangat tinggi:300MB\n",
      "Data proses sangat tinggi:400MB\n",
      "Data proses sangat tinggi:500MB\n"
     ]
    }
   ],
   "source": [
    "besar=[140,150,200,300,400,500]\n",
    "dataproses(besar)"
   ]
  },
  {
   "cell_type": "code",
   "execution_count": 23,
   "metadata": {},
   "outputs": [],
   "source": [
    "# berupa list\n",
    "kategori=[]\n",
    "def dataproses(BESAR):\n",
    "    for i in besar:\n",
    "        if i < 99.99:\n",
    "            print(\"Data proses rendah:\"+str(i)+\"MB\")\n",
    "            a=\"Data proses rendah\"\n",
    "            kategori.append(a)\n",
    "        elif i < 149.99:\n",
    "            print(\"Data proses sedang:\"+str(i)+\"MB\")\n",
    "            a=\"Data proses sedang\"\n",
    "            kategori.append(a)\n",
    "        elif i < 199.99:\n",
    "            print(\"Data proses tinggi:\"+str(i)+\"MB\")\n",
    "            a=\"Data proses tinggi\"\n",
    "            kategori.append(a)\n",
    "        else:\n",
    "            print(\"Data proses sangat tinggi:\"+str(i)+\"MB\")\n",
    "            a=\"Data proses sangat tinggi\"\n",
    "            kategori.append(a)\n",
    "    return(kategori)"
   ]
  },
  {
   "cell_type": "code",
   "execution_count": 26,
   "metadata": {},
   "outputs": [
    {
     "name": "stdout",
     "output_type": "stream",
     "text": [
      "Data proses sedang:140MB\n",
      "Data proses tinggi:150MB\n",
      "Data proses sangat tinggi:200MB\n",
      "Data proses sangat tinggi:300MB\n",
      "Data proses sangat tinggi:400MB\n",
      "Data proses sangat tinggi:500MB\n"
     ]
    },
    {
     "data": {
      "text/plain": [
       "['Data proses sedang',\n",
       " 'Data proses tinggi',\n",
       " 'Data proses sangat tinggi',\n",
       " 'Data proses sangat tinggi',\n",
       " 'Data proses sangat tinggi',\n",
       " 'Data proses sangat tinggi',\n",
       " 'Data proses sedang',\n",
       " 'Data proses tinggi',\n",
       " 'Data proses sangat tinggi',\n",
       " 'Data proses sangat tinggi',\n",
       " 'Data proses sangat tinggi',\n",
       " 'Data proses sangat tinggi',\n",
       " 'Data proses sedang',\n",
       " 'Data proses tinggi',\n",
       " 'Data proses sangat tinggi',\n",
       " 'Data proses sangat tinggi',\n",
       " 'Data proses sangat tinggi',\n",
       " 'Data proses sangat tinggi']"
      ]
     },
     "execution_count": 26,
     "metadata": {},
     "output_type": "execute_result"
    }
   ],
   "source": [
    "BESAR=[140,150,200,300,400,500]\n",
    "dataproses(BESAR)"
   ]
  },
  {
   "cell_type": "code",
   "execution_count": 3,
   "metadata": {},
   "outputs": [],
   "source": [
    "dataku = ([89, 45, 67, 78, 88])"
   ]
  },
  {
   "cell_type": "code",
   "execution_count": 8,
   "metadata": {},
   "outputs": [
    {
     "name": "stdout",
     "output_type": "stream",
     "text": [
      "Sangat Tinggi: 89\n",
      "Rendah: 45\n",
      "Sedang: 67\n",
      "Tinggi: 78\n",
      "Sangat Tinggi: 88\n"
     ]
    },
    {
     "data": {
      "text/plain": [
       "['Sangat Tinggi', 'Rendah', 'Sedang', 'Tinggi', 'Sangat Tinggi']"
      ]
     },
     "execution_count": 8,
     "metadata": {},
     "output_type": "execute_result"
    }
   ],
   "source": [
    "kategori = []\n",
    "def ipm(dataku):\n",
    "    for ipm in dataku:\n",
    "        if ipm < 60:\n",
    "            print(\"Rendah: \" + str(ipm))\n",
    "            a = \"Rendah\"\n",
    "            kategori.append(a)\n",
    "        elif ipm < 70:\n",
    "            print(\"Sedang: \" + str(ipm))\n",
    "            a = \"Sedang\"\n",
    "            kategori.append(a)\n",
    "        elif ipm < 80:\n",
    "            print(\"Tinggi: \" + str(ipm))\n",
    "            a = \"Tinggi\"\n",
    "            kategori.append(a)\n",
    "        else:\n",
    "            print(\"Sangat Tinggi: \" + str(ipm))\n",
    "            a = \"Sangat Tinggi\"\n",
    "            kategori.append(a)\n",
    "    return(kategori)\n",
    "ipm(dataku)\n"
   ]
  },
  {
   "cell_type": "code",
   "execution_count": 13,
   "metadata": {},
   "outputs": [
    {
     "name": "stdout",
     "output_type": "stream",
     "text": [
      "IPM Sangat Tinggi: 89\n",
      " IPM sangat rendah: 45\n",
      "IPM Sedang: 67\n",
      "IPM Tinggi: 78\n",
      "IPM Sangat Tinggi: 88\n"
     ]
    },
    {
     "data": {
      "text/plain": [
       "['IPM Sangat Tinggi',\n",
       " 'Rendah',\n",
       " 'IPM Sedang',\n",
       " 'IPM Tinggi',\n",
       " 'IPM Sangat Tinggi']"
      ]
     },
     "execution_count": 13,
     "metadata": {},
     "output_type": "execute_result"
    }
   ],
   "source": [
    "kategori = []\n",
    "def ipm(dataku):\n",
    "    for ipm in dataku:\n",
    "        if ipm < 60:\n",
    "            print(\" IPM sangat rendah: \" + str(ipm))\n",
    "            a = \"IPM Rendah\"\n",
    "            kategori.append(a)\n",
    "        elif ipm < 70:\n",
    "            print(\"IPM Sedang: \" + str(ipm))\n",
    "            a = \"IPM Sedang\"\n",
    "            kategori.append(a)\n",
    "        elif ipm < 80:\n",
    "            print(\"IPM Tinggi: \" + str(ipm))\n",
    "            a = \"IPM Tinggi\"\n",
    "            kategori.append(a)\n",
    "        else:\n",
    "            print(\"IPM Sangat Tinggi: \" + str(ipm))\n",
    "            a = \"IPM Sangat Tinggi\"\n",
    "            kategori.append(a)\n",
    "    return(kategori)\n",
    "ipm(dataku)\n"
   ]
  },
  {
   "cell_type": "code",
   "execution_count": 26,
   "metadata": {},
   "outputs": [],
   "source": [
    "dataku = ([5.01, 4.06, 7.23, 8.01, 10.01, 10.05])"
   ]
  },
  {
   "cell_type": "code",
   "execution_count": 28,
   "metadata": {},
   "outputs": [
    {
     "name": "stdout",
     "output_type": "stream",
     "text": [
      "Inflasi ringan: 5.01\n",
      "Inflasi ringan: 4.06\n",
      "Inflasi ringan: 7.23\n",
      "Inflasi ringan: 8.01\n",
      "Inflasi Sedang: 10.01\n",
      "Inflasi Sedang: 10.05\n"
     ]
    },
    {
     "data": {
      "text/plain": [
       "['Inflasi ringan',\n",
       " 'Inflasi ringan',\n",
       " 'Inflasi ringan',\n",
       " 'Inflasi ringan',\n",
       " 'Inflasi Sedang',\n",
       " 'Inflasi Sedang']"
      ]
     },
     "execution_count": 28,
     "metadata": {},
     "output_type": "execute_result"
    }
   ],
   "source": [
    "kategori = []\n",
    "def inflasi(dataku):\n",
    "    for inflasi in dataku:\n",
    "        if inflasi < 10:\n",
    "            print(\"Inflasi ringan: \" + str(inflasi))\n",
    "            a = \"Inflasi ringan\"\n",
    "            kategori.append(a)\n",
    "        elif inflasi < 30:\n",
    "            print(\"Inflasi Sedang: \" + str(inflasi))\n",
    "            a = \"Inflasi Sedang\"\n",
    "            kategori.append(a)\n",
    "        elif inflasi < 100:\n",
    "            print(\"Inflasi berat: \" + str(inflasi))\n",
    "            a = \"Inflasi berat\"\n",
    "            kategori.append(a)\n",
    "        else:\n",
    "            print(\"Hiperinflasi: \" + str(inflasi))\n",
    "            a = \"Hiperinflasi\"\n",
    "            kategori.append(a)\n",
    "    return(kategori)\n",
    "inflasi(dataku)\n"
   ]
  },
  {
   "cell_type": "code",
   "execution_count": 14,
   "metadata": {},
   "outputs": [],
   "source": [
    "def jarak(x1, y1, x2, y2):\n",
    "    kurang1 = (x1 - x2)**2\n",
    "    kurang2 = (y1 - y2)**2\n",
    "    jarak = math.sqrt(kurang1 + kurang2)\n",
    "    return(jarak)"
   ]
  },
  {
   "cell_type": "code",
   "execution_count": 15,
   "metadata": {},
   "outputs": [],
   "source": [
    "import math"
   ]
  },
  {
   "cell_type": "code",
   "execution_count": 16,
   "metadata": {},
   "outputs": [
    {
     "data": {
      "text/plain": [
       "34.0"
      ]
     },
     "execution_count": 16,
     "metadata": {},
     "output_type": "execute_result"
    }
   ],
   "source": [
    "jarak(-10,9,20,-7)"
   ]
  },
  {
   "cell_type": "code",
   "execution_count": 17,
   "metadata": {},
   "outputs": [],
   "source": [
    "def tabung(r, t):\n",
    "    l_lingkaran = math.pi*r*r\n",
    "    volume = l_lingkaran*t\n",
    "    l_permukaan = 2*math.pi*r*(r+t)\n",
    "    return(volume, l_permukaan)"
   ]
  },
  {
   "cell_type": "code",
   "execution_count": 18,
   "metadata": {},
   "outputs": [],
   "source": [
    "a,b = tabung(7,10)"
   ]
  },
  {
   "cell_type": "code",
   "execution_count": 19,
   "metadata": {},
   "outputs": [
    {
     "name": "stdout",
     "output_type": "stream",
     "text": [
      "1539.3804002589986\n"
     ]
    }
   ],
   "source": [
    "print(a)"
   ]
  },
  {
   "cell_type": "code",
   "execution_count": 20,
   "metadata": {},
   "outputs": [
    {
     "name": "stdout",
     "output_type": "stream",
     "text": [
      "747.6990515543707\n"
     ]
    }
   ],
   "source": [
    "print(b)"
   ]
  },
  {
   "cell_type": "code",
   "execution_count": 21,
   "metadata": {},
   "outputs": [],
   "source": [
    "indonia = [0.05, 0.06, 0.06, 0.07, 0.08]"
   ]
  },
  {
   "cell_type": "code",
   "execution_count": 22,
   "metadata": {},
   "outputs": [],
   "source": [
    "import numpy as np"
   ]
  },
  {
   "cell_type": "code",
   "execution_count": 23,
   "metadata": {},
   "outputs": [
    {
     "data": {
      "text/plain": [
       "array([0.05, 0.06, 0.06, 0.07, 0.08])"
      ]
     },
     "execution_count": 23,
     "metadata": {},
     "output_type": "execute_result"
    }
   ],
   "source": [
    "np.array(indonia)"
   ]
  },
  {
   "cell_type": "code",
   "execution_count": 24,
   "metadata": {},
   "outputs": [],
   "source": [
    "bi_rate1 = np.array([0.07, 0.07, 0.06])\n",
    "bi_rate2 = np.array([0.06, 0.05, 0.04])"
   ]
  },
  {
   "cell_type": "code",
   "execution_count": 25,
   "metadata": {},
   "outputs": [
    {
     "name": "stdout",
     "output_type": "stream",
     "text": [
      "[[0.07 0.06]\n",
      " [0.07 0.05]\n",
      " [0.06 0.04]]\n"
     ]
    }
   ],
   "source": [
    "bi_rate0 = np.stack((bi_rate1, bi_rate2), axis=1)\n",
    "print(bi_rate0)"
   ]
  },
  {
   "cell_type": "code",
   "execution_count": null,
   "metadata": {},
   "outputs": [],
   "source": []
  }
 ],
 "metadata": {
  "interpreter": {
   "hash": "23de8b414a4c09d593fbd8e0c5bd7084aebbaf951048db0c16457ae2ef34dc87"
  },
  "kernelspec": {
   "display_name": "Python 3.8.8 64-bit ('base': conda)",
   "name": "python3"
  },
  "language_info": {
   "codemirror_mode": {
    "name": "ipython",
    "version": 3
   },
   "file_extension": ".py",
   "mimetype": "text/x-python",
   "name": "python",
   "nbconvert_exporter": "python",
   "pygments_lexer": "ipython3",
   "version": "3.8.8"
  },
  "orig_nbformat": 4
 },
 "nbformat": 4,
 "nbformat_minor": 2
}
